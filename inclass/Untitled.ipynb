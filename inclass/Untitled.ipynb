{
 "cells": [
  {
   "cell_type": "code",
   "execution_count": 2,
   "id": "5a1c73c5-7ad2-40ba-8c8c-55e3ca30c675",
   "metadata": {},
   "outputs": [
    {
     "name": "stdout",
     "output_type": "stream",
     "text": [
      "-rw-r--r--  1 grizzlystudio  staff  1160157683 Mar 19 12:52 LoanStats_web.csv\n"
     ]
    }
   ],
   "source": [
    "! ls -l *.csv"
   ]
  },
  {
   "cell_type": "code",
   "execution_count": 3,
   "id": "41bc96d1-3097-42db-872d-808cb00a7bca",
   "metadata": {},
   "outputs": [],
   "source": [
    "file_path = \"/Users/grizzlystudio/Library/Mobile Documents/com~apple~CloudDocs/Download_ALL_Apple/github/2024-NT-Python-and-PowerBI/dev/inclass/LoanStats_web.csv\""
   ]
  },
  {
   "cell_type": "code",
   "execution_count": 6,
   "id": "42da8312-d012-4811-a289-8b5d1892e210",
   "metadata": {},
   "outputs": [],
   "source": [
    "import pandas as pd\n",
    "\n",
    "df = pd.read_csv(file_path, sep=',',low_memory=False, header=0)"
   ]
  },
  {
   "cell_type": "code",
   "execution_count": 8,
   "id": "ccca7874-ca03-4c20-befb-6f040a50596d",
   "metadata": {},
   "outputs": [
    {
     "name": "stdout",
     "output_type": "stream",
     "text": [
      "<class 'pandas.core.frame.DataFrame'>\n",
      "RangeIndex: 1432466 entries, 0 to 1432465\n",
      "Columns: 144 entries, id to settlement_term\n",
      "dtypes: float64(106), object(38)\n",
      "memory usage: 1.5+ GB\n"
     ]
    }
   ],
   "source": [
    "df.info()"
   ]
  },
  {
   "cell_type": "code",
   "execution_count": 9,
   "id": "651ea060-b5b9-45c2-8a5c-529e2d4ba2c7",
   "metadata": {},
   "outputs": [
    {
     "name": "stdout",
     "output_type": "stream",
     "text": [
      "  application_type  annual_inc  annual_inc_joint    dti  dti_joint emp_length\n",
      "0       Individual     53000.0               NaN  20.99        NaN    6 years\n",
      "1       Individual     52000.0               NaN  18.86        NaN    9 years\n",
      "2       Individual     73000.0               NaN  10.85        NaN    5 years\n",
      "3       Individual    138000.0               NaN  12.44        NaN  10+ years\n",
      "4       Individual    134000.0               NaN  25.69        NaN  10+ years\n"
     ]
    }
   ],
   "source": [
    "# สร้าง DataFrame ใหม่ที่มีเฉพาะคอลัมน์ที่จำเป็น\n",
    "df_filtered = df[['application_type', 'annual_inc', 'annual_inc_joint', 'dti', 'dti_joint', 'emp_length']]\n",
    "\n",
    "# ตรวจสอบข้อมูลหลังจากการกรอง\n",
    "print(df_filtered.head())\n"
   ]
  },
  {
   "cell_type": "code",
   "execution_count": 10,
   "id": "94bc26d4-0695-464b-a677-a754715cecf5",
   "metadata": {},
   "outputs": [
    {
     "name": "stdout",
     "output_type": "stream",
     "text": [
      "<class 'pandas.core.frame.DataFrame'>\n",
      "RangeIndex: 1432466 entries, 0 to 1432465\n",
      "Data columns (total 6 columns):\n",
      " #   Column            Non-Null Count    Dtype  \n",
      "---  ------            --------------    -----  \n",
      " 0   application_type  1432440 non-null  object \n",
      " 1   annual_inc        1432440 non-null  float64\n",
      " 2   annual_inc_joint  112083 non-null   float64\n",
      " 3   dti               1430856 non-null  float64\n",
      " 4   dti_joint         112081 non-null   float64\n",
      " 5   emp_length        1323970 non-null  object \n",
      "dtypes: float64(4), object(2)\n",
      "memory usage: 65.6+ MB\n"
     ]
    }
   ],
   "source": [
    "df_filtered.info()"
   ]
  },
  {
   "cell_type": "code",
   "execution_count": 11,
   "id": "b277871c-3506-4579-971f-47778f67018d",
   "metadata": {},
   "outputs": [
    {
     "data": {
      "text/plain": [
       "emp_length\n",
       "1 year        95926\n",
       "10+ years    478304\n",
       "2 years      130251\n",
       "3 years      116802\n",
       "4 years       86767\n",
       "5 years       88686\n",
       "6 years       62261\n",
       "7 years       48965\n",
       "8 years       51222\n",
       "9 years       46393\n",
       "< 1 year     118393\n",
       "dtype: int64"
      ]
     },
     "execution_count": 11,
     "metadata": {},
     "output_type": "execute_result"
    }
   ],
   "source": [
    "df_filtered.groupby('emp_length').size()"
   ]
  },
  {
   "cell_type": "code",
   "execution_count": 12,
   "id": "70ca3fa2-fa03-4752-ae7b-6a71fd293f42",
   "metadata": {},
   "outputs": [
    {
     "name": "stdout",
     "output_type": "stream",
     "text": [
      "emp_length\n",
      "10+ years    478304\n",
      "2 years      130251\n",
      "< 1 year     118393\n",
      "3 years      116802\n",
      "N/A          108496\n",
      "1 year        95926\n",
      "5 years       88686\n",
      "4 years       86767\n",
      "6 years       62261\n",
      "8 years       51222\n",
      "7 years       48965\n",
      "9 years       46393\n",
      "Name: count, dtype: int64\n"
     ]
    },
    {
     "name": "stderr",
     "output_type": "stream",
     "text": [
      "/var/folders/77/kb3ytnf93qd_ccggvdrcr2dw0000gn/T/ipykernel_1862/2962057706.py:2: SettingWithCopyWarning: \n",
      "A value is trying to be set on a copy of a slice from a DataFrame.\n",
      "Try using .loc[row_indexer,col_indexer] = value instead\n",
      "\n",
      "See the caveats in the documentation: https://pandas.pydata.org/pandas-docs/stable/user_guide/indexing.html#returning-a-view-versus-a-copy\n",
      "  df_filtered['emp_length'] = df_filtered['emp_length'].fillna('N/A')\n"
     ]
    }
   ],
   "source": [
    "# แทนที่ค่า null ในคอลัมน์ 'emp_length' ด้วย 'N/A'\n",
    "df_filtered['emp_length'] = df_filtered['emp_length'].fillna('N/A')\n",
    "\n",
    "# ตรวจสอบการกระจายของค่าในคอลัมน์ 'emp_length' อีกครั้งเพื่อยืนยันการแทนที่\n",
    "emp_length_distribution = df_filtered['emp_length'].value_counts()\n",
    "\n",
    "# แสดงการกระจายของค่า\n",
    "print(emp_length_distribution)\n"
   ]
  },
  {
   "cell_type": "code",
   "execution_count": 14,
   "id": "34e56af2-e931-44a8-8d2e-651986f63936",
   "metadata": {},
   "outputs": [
    {
     "name": "stdout",
     "output_type": "stream",
     "text": [
      "<class 'pandas.core.frame.DataFrame'>\n",
      "RangeIndex: 1432466 entries, 0 to 1432465\n",
      "Data columns (total 6 columns):\n",
      " #   Column            Non-Null Count    Dtype  \n",
      "---  ------            --------------    -----  \n",
      " 0   application_type  1432440 non-null  object \n",
      " 1   annual_inc        1432440 non-null  float64\n",
      " 2   annual_inc_joint  112083 non-null   float64\n",
      " 3   dti               1430856 non-null  float64\n",
      " 4   dti_joint         112081 non-null   float64\n",
      " 5   emp_length        1432466 non-null  object \n",
      "dtypes: float64(4), object(2)\n",
      "memory usage: 65.6+ MB\n"
     ]
    }
   ],
   "source": [
    "df_filtered.info()"
   ]
  },
  {
   "cell_type": "code",
   "execution_count": 15,
   "id": "6f26d6f4-44c4-446c-8ba9-f227b74cf7a2",
   "metadata": {},
   "outputs": [
    {
     "name": "stdout",
     "output_type": "stream",
     "text": [
      "Number of rows where 'dti' is null: 1610\n",
      "      application_type  annual_inc  annual_inc_joint  dti  dti_joint  \\\n",
      "449          Joint App         0.0           40000.0  NaN      13.65   \n",
      "2224         Joint App         0.0          115000.0  NaN      20.20   \n",
      "5419         Joint App         0.0           56000.0  NaN      30.30   \n",
      "10851        Joint App         0.0           65000.0  NaN       8.71   \n",
      "16023        Joint App         0.0           50000.0  NaN       9.84   \n",
      "\n",
      "      emp_length  \n",
      "449          N/A  \n",
      "2224         N/A  \n",
      "5419         N/A  \n",
      "10851        N/A  \n",
      "16023        N/A  \n"
     ]
    }
   ],
   "source": [
    "# ใช้ .isnull() เพื่อหาแถวที่ 'dti' เป็น null\n",
    "dti_null_rows = df_filtered[df_filtered['dti'].isnull()]\n",
    "\n",
    "# แสดงจำนวนแถวที่ 'dti' เป็น null\n",
    "print(f\"Number of rows where 'dti' is null: {dti_null_rows.shape[0]}\")\n",
    "\n",
    "# ถ้าคุณต้องการดูข้อมูลจากแถวเหล่านั้นเพื่อวิเคราะห์เพิ่มเติม\n",
    "if dti_null_rows.shape[0] > 0:\n",
    "    print(dti_null_rows.head()) # แสดง 5 แถวแรกที่ 'dti' เป็น null\n"
   ]
  },
  {
   "cell_type": "code",
   "execution_count": 16,
   "id": "4c7395c2-4a41-4624-b7eb-8e50b61d641f",
   "metadata": {},
   "outputs": [
    {
     "name": "stdout",
     "output_type": "stream",
     "text": [
      "        application_type  annual_inc_joint\n",
      "1055684        Joint App           5693.51\n",
      "1294197        Joint App           9000.00\n",
      "229234         Joint App          11000.00\n",
      "1010011        Joint App          12500.00\n",
      "336502         Joint App          13470.00\n"
     ]
    }
   ],
   "source": [
    "# เรียงข้อมูลตาม 'annual_inc_joint' จากน้อยไปมาก โดยที่แถวที่มีค่า null จะถูกจัดไว้ท้ายสุด\n",
    "sorted_df_joint = df_filtered.sort_values(by='annual_inc_joint', na_position='last')\n",
    "\n",
    "# แสดงผลลัพธ์บางส่วนเพื่อตรวจสอบ\n",
    "print(sorted_df_joint[['application_type', 'annual_inc_joint']].head())\n"
   ]
  },
  {
   "cell_type": "code",
   "execution_count": null,
   "id": "81a76bec-8a9c-469d-a7a6-6f70125625e3",
   "metadata": {},
   "outputs": [],
   "source": []
  }
 ],
 "metadata": {
  "kernelspec": {
   "display_name": "Python 3 (ipykernel)",
   "language": "python",
   "name": "python3"
  },
  "language_info": {
   "codemirror_mode": {
    "name": "ipython",
    "version": 3
   },
   "file_extension": ".py",
   "mimetype": "text/x-python",
   "name": "python",
   "nbconvert_exporter": "python",
   "pygments_lexer": "ipython3",
   "version": "3.8.18"
  }
 },
 "nbformat": 4,
 "nbformat_minor": 5
}
