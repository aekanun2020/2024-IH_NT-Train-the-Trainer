{
 "cells": [
  {
   "cell_type": "code",
   "execution_count": 1,
   "id": "d0c1a96a-4998-493a-b1fd-dbc36e7e18f0",
   "metadata": {},
   "outputs": [],
   "source": [
    "target = 'title'"
   ]
  },
  {
   "cell_type": "code",
   "execution_count": 2,
   "id": "fecc53e6-96f1-4a00-b28e-81206c1acd55",
   "metadata": {},
   "outputs": [
    {
     "data": {
      "text/plain": [
       "'/Users/grizzlym1/Library/Mobile Documents/com~apple~CloudDocs/Download_ALL_Apple/github/2024-NT-Python-and-PowerBI/dev'"
      ]
     },
     "execution_count": 2,
     "metadata": {},
     "output_type": "execute_result"
    }
   ],
   "source": [
    "pwd"
   ]
  },
  {
   "cell_type": "code",
   "execution_count": 3,
   "id": "aab4fee2-c78a-410f-82a8-9f9b2e80763e",
   "metadata": {},
   "outputs": [
    {
     "name": "stdout",
     "output_type": "stream",
     "text": [
      "total 2265936\n",
      "-rw-r--r--  1 grizzlym1  staff  1160157683 Mar 23  2023 LoanStats_web.csv\n"
     ]
    }
   ],
   "source": [
    "! ls -l ../data/"
   ]
  },
  {
   "cell_type": "code",
   "execution_count": 4,
   "id": "c8b49b61-f31c-42e7-8779-f8f3c880d2d9",
   "metadata": {},
   "outputs": [
    {
     "name": "stdout",
     "output_type": "stream",
     "text": [
      "\"id\",\"member_id\",\"loan_amnt\",\"funded_amnt\",\"funded_amnt_inv\",\"term\",\"int_rate\",\"installment\",\"grade\",\"sub_grade\",\"emp_title\",\"emp_length\",\"home_ownership\",\"annual_inc\",\"verification_status\",\"issue_d\",\"loan_status\",\"pymnt_plan\",\"url\",\"desc\",\"purpose\",\"title\",\"zip_code\",\"addr_state\",\"dti\",\"delinq_2yrs\",\"earliest_cr_line\",\"inq_last_6mths\",\"mths_since_last_delinq\",\"mths_since_last_record\",\"open_acc\",\"pub_rec\",\"revol_bal\",\"revol_util\",\"total_acc\",\"initial_list_status\",\"out_prncp\",\"out_prncp_inv\",\"total_pymnt\",\"total_pymnt_inv\",\"total_rec_prncp\",\"total_rec_int\",\"total_rec_late_fee\",\"recoveries\",\"collection_recovery_fee\",\"last_pymnt_d\",\"last_pymnt_amnt\",\"next_pymnt_d\",\"last_credit_pull_d\",\"collections_12_mths_ex_med\",\"mths_since_last_major_derog\",\"policy_code\",\"application_type\",\"annual_inc_joint\",\"dti_joint\",\"verification_status_joint\",\"acc_now_delinq\",\"tot_coll_amt\",\"tot_cur_bal\",\"open_acc_6m\",\"open_act_il\",\"open_il_12m\",\"open_il_24m\",\"mths_since_rcnt_il\",\"total_bal_il\",\"il_util\",\"open_rv_12m\",\"open_rv_24m\",\"max_bal_bc\",\"all_util\",\"total_rev_hi_lim\",\"inq_fi\",\"total_cu_tl\",\"inq_last_12m\",\"acc_open_past_24mths\",\"avg_cur_bal\",\"bc_open_to_buy\",\"bc_util\",\"chargeoff_within_12_mths\",\"delinq_amnt\",\"mo_sin_old_il_acct\",\"mo_sin_old_rev_tl_op\",\"mo_sin_rcnt_rev_tl_op\",\"mo_sin_rcnt_tl\",\"mort_acc\",\"mths_since_recent_bc\",\"mths_since_recent_bc_dlq\",\"mths_since_recent_inq\",\"mths_since_recent_revol_delinq\",\"num_accts_ever_120_pd\",\"num_actv_bc_tl\",\"num_actv_rev_tl\",\"num_bc_sats\",\"num_bc_tl\",\"num_il_tl\",\"num_op_rev_tl\",\"num_rev_accts\",\"num_rev_tl_bal_gt_0\",\"num_sats\",\"num_tl_120dpd_2m\",\"num_tl_30dpd\",\"num_tl_90g_dpd_24m\",\"num_tl_op_past_12m\",\"pct_tl_nvr_dlq\",\"percent_bc_gt_75\",\"pub_rec_bankruptcies\",\"tax_liens\",\"tot_hi_cred_lim\",\"total_bal_ex_mort\",\"total_bc_limit\",\"total_il_high_credit_limit\",\"revol_bal_joint\",\"sec_app_earliest_cr_line\",\"sec_app_inq_last_6mths\",\"sec_app_mort_acc\",\"sec_app_open_acc\",\"sec_app_revol_util\",\"sec_app_open_act_il\",\"sec_app_num_rev_accts\",\"sec_app_chargeoff_within_12_mths\",\"sec_app_collections_12_mths_ex_med\",\"sec_app_mths_since_last_major_derog\",\"hardship_flag\",\"hardship_type\",\"hardship_reason\",\"hardship_status\",\"deferral_term\",\"hardship_amount\",\"hardship_start_date\",\"hardship_end_date\",\"payment_plan_start_date\",\"hardship_length\",\"hardship_dpd\",\"hardship_loan_status\",\"orig_projected_additional_accrued_interest\",\"hardship_payoff_balance_amount\",\"hardship_last_payment_amount\",\"debt_settlement_flag\",\"debt_settlement_flag_date\",\"settlement_status\",\"settlement_date\",\"settlement_amount\",\"settlement_percentage\",\"settlement_term\"\n",
      "\"\",\"\",\"12800\",\"12800\",\"12800\",\" 36 months\",\" 11.99%\",\"425.09\",\"C\",\"C1\",\"LOGISTICS COORDINATOR\",\"6 years\",\"MORTGAGE\",\"53000\",\"Verified\",\"Mar-2016\",\"Fully Paid\",\"n\",\"\",\"\",\"credit_card\",\"Credit card refinancing\",\"330xx\",\"FL\",\"20.99\",\"0\",\"Mar-2002\",\"0\",\"\",\"59\",\"7\",\"1\",\"8777\",\"79.1%\",\"16\",\"w\",\"0.00\",\"0.00\",\"15289.8112319621\",\"15289.81\",\"12800.00\",\"2489.81\",\"0.0\",\"0.0\",\"0.0\",\"Apr-2019\",\"424.75\",\"\",\"Mar-2019\",\"0\",\"\",\"1\",\"Individual\",\"\",\"\",\"\",\"0\",\"0\",\"221036\",\"2\",\"2\",\"1\",\"1\",\"9\",\"23227\",\"68\",\"1\",\"1\",\"3381\",\"71\",\"11100\",\"1\",\"0\",\"2\",\"3\",\"31577\",\"962\",\"87.8\",\"0\",\"0\",\"124\",\"168\",\"4\",\"4\",\"1\",\"43\",\"\",\"7\",\"\",\"0\",\"3\",\"4\",\"3\",\"4\",\"7\",\"4\",\"8\",\"4\",\"7\",\"0\",\"0\",\"0\",\"3\",\"100\",\"100\",\"1\",\"0\",\"235600\",\"32004\",\"7900\",\"34024\",\"\",\"\",\"\",\"\",\"\",\"\",\"\",\"\",\"\",\"\",\"\",\"N\",\"\",\"\",\"\",\"\",\"\",\"\",\"\",\"\",\"\",\"\",\"\",\"\",\"\",\"\",\"N\",\"\",\"\",\"\",\"\",\"\",\"\"\n",
      "\"\",\"\",\"9000\",\"9000\",\"9000\",\" 36 months\",\" 15.31%\",\"313.36\",\"C\",\"C5\",\"Senior Case Assistant\",\"9 years\",\"RENT\",\"52000\",\"Source Verified\",\"Mar-2016\",\"Fully Paid\",\"n\",\"\",\"\",\"debt_consolidation\",\"Debt consolidation\",\"945xx\",\"CA\",\"18.86\",\"0\",\"Nov-1999\",\"0\",\"24\",\"\",\"6\",\"0\",\"11713\",\"73.7%\",\"13\",\"w\",\"0.00\",\"0.00\",\"10193.6517427984\",\"10193.65\",\"9000.00\",\"1193.65\",\"0.0\",\"0.0\",\"0.0\",\"Mar-2017\",\"7064.14\",\"\",\"Jul-2019\",\"0\",\"\",\"1\",\"Individual\",\"\",\"\",\"\",\"0\",\"0\",\"52953\",\"2\",\"1\",\"1\",\"1\",\"4\",\"41240\",\"\",\"3\",\"3\",\"3789\",\"74\",\"15900\",\"0\",\"1\",\"2\",\"4\",\"8826\",\"4187\",\"73.7\",\"0\",\"0\",\"125\",\"196\",\"1\",\"1\",\"0\",\"1\",\"\",\"4\",\"\",\"0\",\"5\",\"5\",\"5\",\"9\",\"3\",\"5\",\"10\",\"5\",\"6\",\"0\",\"0\",\"0\",\"4\",\"92.3\",\"80\",\"0\",\"0\",\"58425\",\"52953\",\"15900\",\"42525\",\"\",\"\",\"\",\"\",\"\",\"\",\"\",\"\",\"\",\"\",\"\",\"N\",\"\",\"\",\"\",\"\",\"\",\"\",\"\",\"\",\"\",\"\",\"\",\"\",\"\",\"\",\"N\",\"\",\"\",\"\",\"\",\"\",\"\"\n",
      "\"\",\"\",\"8000\",\"8000\",\"8000\",\" 36 months\",\" 10.75%\",\"260.97\",\"B\",\"B4\",\"Vp\",\"5 years\",\"RENT\",\"73000\",\"Source Verified\",\"Mar-2016\",\"Fully Paid\",\"n\",\"\",\"\",\"debt_consolidation\",\"Debt consolidation\",\"917xx\",\"CA\",\"10.85\",\"0\",\"Jan-2005\",\"2\",\"\",\"\",\"5\",\"0\",\"1824\",\"8%\",\"8\",\"w\",\"0.00\",\"0.00\",\"9421.150892764\",\"9421.15\",\"8000.00\",\"1421.15\",\"0.0\",\"0.0\",\"0.0\",\"Mar-2019\",\"521.9\",\"\",\"May-2019\",\"0\",\"\",\"1\",\"Individual\",\"\",\"\",\"\",\"0\",\"0\",\"62125\",\"1\",\"2\",\"0\",\"1\",\"13\",\"60301\",\"85\",\"2\",\"3\",\"854\",\"47\",\"22800\",\"0\",\"1\",\"2\",\"4\",\"12425\",\"20571\",\"6.5\",\"0\",\"0\",\"134\",\"84\",\"2\",\"2\",\"0\",\"2\",\"\",\"0\",\"\",\"0\",\"2\",\"3\",\"2\",\"3\",\"4\",\"3\",\"4\",\"3\",\"5\",\"0\",\"0\",\"0\",\"2\",\"100\",\"50\",\"0\",\"0\",\"78840\",\"62125\",\"22000\",\"56040\",\"\",\"\",\"\",\"\",\"\",\"\",\"\",\"\",\"\",\"\",\"\",\"N\",\"\",\"\",\"\",\"\",\"\",\"\",\"\",\"\",\"\",\"\",\"\",\"\",\"\",\"\",\"N\",\"\",\"\",\"\",\"\",\"\",\"\"\n",
      "\"\",\"\",\"25000\",\"25000\",\"25000\",\" 60 months\",\" 12.99%\",\"568.7\",\"C\",\"C2\",\"Administration\",\"10+ years\",\"RENT\",\"138000\",\"Not Verified\",\"Mar-2016\",\"Charged Off\",\"n\",\"\",\"\",\"debt_consolidation\",\"Debt consolidation\",\"078xx\",\"NJ\",\"12.44\",\"0\",\"Aug-1995\",\"1\",\"\",\"64\",\"9\",\"1\",\"8577\",\"37.1%\",\"24\",\"w\",\"0.00\",\"0.00\",\"17420.54\",\"17420.54\",\"10091.32\",\"6364.90\",\"0.0\",\"964.32\",\"173.5776\",\"Sep-2018\",\"568.7\",\"\",\"May-2019\",\"0\",\"\",\"1\",\"Individual\",\"\",\"\",\"\",\"0\",\"0\",\"11565\",\"2\",\"1\",\"0\",\"0\",\"33\",\"2988\",\"\",\"2\",\"6\",\"4350\",\"37\",\"23100\",\"1\",\"0\",\"2\",\"6\",\"1285\",\"9281\",\"45.4\",\"0\",\"0\",\"136\",\"247\",\"2\",\"2\",\"0\",\"2\",\"\",\"0\",\"\",\"0\",\"5\",\"8\",\"5\",\"11\",\"3\",\"8\",\"20\",\"8\",\"9\",\"0\",\"0\",\"0\",\"2\",\"100\",\"20\",\"1\",\"0\",\"58967\",\"11565\",\"17000\",\"35867\",\"\",\"\",\"\",\"\",\"\",\"\",\"\",\"\",\"\",\"\",\"\",\"N\",\"\",\"\",\"\",\"\",\"\",\"\",\"\",\"\",\"\",\"\",\"\",\"\",\"\",\"\",\"N\",\"\",\"\",\"\",\"\",\"\",\"\"\n",
      "\"\",\"\",\"35000\",\"35000\",\"35000\",\" 60 months\",\" 18.25%\",\"893.54\",\"D\",\"D3\",\"Electrician \",\"10+ years\",\"MORTGAGE\",\"134000\",\"Verified\",\"Mar-2016\",\"Fully Paid\",\"n\",\"\",\"\",\"debt_consolidation\",\"Debt consolidation\",\"605xx\",\"IL\",\"25.69\",\"0\",\"Nov-1996\",\"0\",\"\",\"\",\"23\",\"0\",\"41602\",\"63%\",\"26\",\"w\",\"0.00\",\"0.00\",\"46733.2645332959\",\"46733.26\",\"35000.00\",\"11733.26\",\"0.0\",\"0.0\",\"0.0\",\"Jun-2018\",\"354.46\",\"\",\"Aug-2019\",\"0\",\"48\",\"1\",\"Individual\",\"\",\"\",\"\",\"0\",\"0\",\"310728\",\"1\",\"4\",\"3\",\"4\",\"7\",\"44024\",\"82\",\"3\",\"9\",\"6819\",\"63\",\"66400\",\"0\",\"0\",\"1\",\"13\",\"16354\",\"6438\",\"72\",\"0\",\"0\",\"19\",\"232\",\"5\",\"5\",\"2\",\"5\",\"\",\"7\",\"\",\"0\",\"8\",\"13\",\"9\",\"9\",\"4\",\"13\",\"20\",\"10\",\"19\",\"\",\"0\",\"0\",\"6\",\"100\",\"50\",\"0\",\"0\",\"355711\",\"85626\",\"51500\",\"53811\",\"\",\"\",\"\",\"\",\"\",\"\",\"\",\"\",\"\",\"\",\"\",\"N\",\"\",\"\",\"\",\"\",\"\",\"\",\"\",\"\",\"\",\"\",\"\",\"\",\"\",\"\",\"N\",\"\",\"\",\"\",\"\",\"\",\"\"\n",
      "\"\",\"\",\"20000\",\"20000\",\"20000\",\" 36 months\",\" 12.99%\",\"673.79\",\"C\",\"C2\",\"Jail Administrator\",\"10+ years\",\"MORTGAGE\",\"58000\",\"Verified\",\"Mar-2016\",\"Fully Paid\",\"n\",\"\",\"\",\"debt_consolidation\",\"Debt consolidation\",\"498xx\",\"MI\",\"16.79\",\"0\",\"May-2004\",\"1\",\"\",\"\",\"8\",\"0\",\"15614\",\"65.3%\",\"36\",\"w\",\"0.00\",\"0.00\",\"23116.6379694259\",\"23116.64\",\"20000.00\",\"3116.64\",\"0.0\",\"0.0\",\"0.0\",\"Oct-2017\",\"11691.08\",\"\",\"Jan-2019\",\"0\",\"\",\"1\",\"Individual\",\"\",\"\",\"\",\"0\",\"228\",\"166102\",\"2\",\"1\",\"2\",\"2\",\"3\",\"26586\",\"97\",\"0\",\"1\",\"8097\",\"82\",\"23900\",\"1\",\"2\",\"3\",\"4\",\"20763\",\"2386\",\"86.7\",\"0\",\"0\",\"142\",\"134\",\"20\",\"3\",\"6\",\"20\",\"\",\"3\",\"\",\"0\",\"2\",\"2\",\"2\",\"4\",\"19\",\"4\",\"9\",\"2\",\"8\",\"0\",\"0\",\"0\",\"3\",\"97.2\",\"100\",\"0\",\"0\",\"179758\",\"42456\",\"18000\",\"27398\",\"\",\"\",\"\",\"\",\"\",\"\",\"\",\"\",\"\",\"\",\"\",\"N\",\"\",\"\",\"\",\"\",\"\",\"\",\"\",\"\",\"\",\"\",\"\",\"\",\"\",\"\",\"N\",\"\",\"\",\"\",\"\",\"\",\"\"\n",
      "\"\",\"\",\"15000\",\"15000\",\"15000\",\" 60 months\",\"  9.16%\",\"312.55\",\"B\",\"B2\",\"Repair tech/ installer\",\"8 years\",\"MORTGAGE\",\"51000\",\"Not Verified\",\"Mar-2016\",\"Current\",\"n\",\"\",\"\",\"credit_card\",\"Credit card refinancing\",\"312xx\",\"GA\",\"26.87\",\"1\",\"Jul-1998\",\"1\",\"1\",\"\",\"31\",\"0\",\"31721\",\"23.7%\",\"47\",\"w\",\"5776.28\",\"5776.28\",\"12486.73\",\"12486.73\",\"9223.72\",\"3263.01\",\"0.0\",\"0.0\",\"0.0\",\"Jul-2019\",\"312.55\",\"Sep-2019\",\"Aug-2019\",\"0\",\"\",\"1\",\"Individual\",\"\",\"\",\"\",\"0\",\"0\",\"52337\",\"3\",\"3\",\"1\",\"1\",\"12\",\"20616\",\"62\",\"5\",\"8\",\"3205\",\"31\",\"134100\",\"0\",\"3\",\"1\",\"9\",\"1745\",\"78142\",\"22\",\"0\",\"0\",\"212\",\"204\",\"3\",\"3\",\"0\",\"5\",\"\",\"5\",\"1\",\"0\",\"15\",\"21\",\"21\",\"28\",\"7\",\"28\",\"40\",\"21\",\"31\",\"0\",\"0\",\"0\",\"6\",\"97.9\",\"0\",\"0\",\"0\",\"167204\",\"52337\",\"100200\",\"33104\",\"\",\"\",\"\",\"\",\"\",\"\",\"\",\"\",\"\",\"\",\"\",\"N\",\"\",\"\",\"\",\"\",\"\",\"\",\"\",\"\",\"\",\"\",\"\",\"\",\"\",\"\",\"N\",\"\",\"\",\"\",\"\",\"\",\"\"\n",
      "\"\",\"\",\"6000\",\"6000\",\"6000\",\" 36 months\",\"  7.39%\",\"186.34\",\"A\",\"A4\",\"Telecom ngineer\",\"3 years\",\"MORTGAGE\",\"72000\",\"Source Verified\",\"Mar-2016\",\"Fully Paid\",\"n\",\"\",\"\",\"debt_consolidation\",\"Debt consolidation\",\"330xx\",\"FL\",\"10.68\",\"0\",\"Oct-2008\",\"0\",\"\",\"\",\"12\",\"0\",\"5426\",\"23.6%\",\"18\",\"w\",\"0.00\",\"0.00\",\"6369.416518535\",\"6369.42\",\"6000.00\",\"369.42\",\"0.0\",\"0.0\",\"0.0\",\"Mar-2017\",\"4510.95\",\"\",\"Mar-2017\",\"0\",\"\",\"1\",\"Individual\",\"\",\"\",\"\",\"0\",\"157\",\"24618\",\"0\",\"5\",\"1\",\"1\",\"7\",\"19192\",\"87\",\"0\",\"3\",\"3147\",\"55\",\"23000\",\"0\",\"3\",\"2\",\"4\",\"2052\",\"4158\",\"55.8\",\"0\",\"0\",\"89\",\"84\",\"14\",\"7\",\"0\",\"14\",\"\",\"9\",\"\",\"0\",\"2\",\"4\",\"2\",\"4\",\"8\",\"7\",\"10\",\"4\",\"12\",\"0\",\"0\",\"0\",\"1\",\"100\",\"0\",\"0\",\"0\",\"45139\",\"24618\",\"9400\",\"22139\",\"\",\"\",\"\",\"\",\"\",\"\",\"\",\"\",\"\",\"\",\"\",\"N\",\"\",\"\",\"\",\"\",\"\",\"\",\"\",\"\",\"\",\"\",\"\",\"\",\"\",\"\",\"N\",\"\",\"\",\"\",\"\",\"\",\"\"\n",
      "\"\",\"\",\"5625\",\"5625\",\"5625\",\" 36 months\",\" 18.25%\",\"204.07\",\"D\",\"D3\",\"Roads and grounds\",\"10+ years\",\"MORTGAGE\",\"53328\",\"Verified\",\"Mar-2016\",\"Fully Paid\",\"n\",\"\",\"\",\"home_improvement\",\"Home improvement\",\"976xx\",\"OR\",\"10.51\",\"0\",\"Mar-2005\",\"0\",\"67\",\"\",\"7\",\"0\",\"1773\",\"26.9%\",\"14\",\"f\",\"0.00\",\"0.00\",\"7235.0316779031\",\"7235.03\",\"5625.00\",\"1610.03\",\"0.0\",\"0.0\",\"0.0\",\"Dec-2018\",\"406.32\",\"\",\"Dec-2018\",\"0\",\"\",\"1\",\"Individual\",\"\",\"\",\"\",\"0\",\"2124\",\"156318\",\"3\",\"1\",\"1\",\"3\",\"3\",\"7560\",\"98\",\"3\",\"5\",\"361\",\"65\",\"6600\",\"0\",\"1\",\"0\",\"8\",\"22331\",\"1809\",\"30.4\",\"0\",\"0\",\"121\",\"132\",\"2\",\"2\",\"1\",\"2\",\"81\",\"14\",\"81\",\"0\",\"3\",\"4\",\"3\",\"4\",\"7\",\"5\",\"6\",\"4\",\"7\",\"0\",\"0\",\"0\",\"4\",\"84.6\",\"0\",\"0\",\"0\",\"200449\",\"9333\",\"2600\",\"7704\",\"\",\"\",\"\",\"\",\"\",\"\",\"\",\"\",\"\",\"\",\"\",\"N\",\"\",\"\",\"\",\"\",\"\",\"\",\"\",\"\",\"\",\"\",\"\",\"\",\"\",\"\",\"N\",\"\",\"\",\"\",\"\",\"\",\"\"\n"
     ]
    }
   ],
   "source": [
    "! head -10 ../data/*.csv"
   ]
  },
  {
   "cell_type": "code",
   "execution_count": 5,
   "id": "a1c320aa-e498-48c9-a834-2d41e0fe7786",
   "metadata": {},
   "outputs": [],
   "source": [
    "### https://chat.openai.com/share/d835f292-f1f2-4eeb-85c5-6e437210298e\n",
    "\n",
    "import pandas as pd\n",
    "\n",
    "# Assuming `data.csv` is your file name\n",
    "df = pd.read_csv('../data/LoanStats_web.csv', dtype=str)"
   ]
  },
  {
   "cell_type": "code",
   "execution_count": 6,
   "id": "0b250049-12b4-470c-9c2e-ebd2ffec65da",
   "metadata": {},
   "outputs": [
    {
     "name": "stdout",
     "output_type": "stream",
     "text": [
      "  loan_amnt funded_amnt funded_amnt_inv        term int_rate installment  \\\n",
      "0     12800       12800           12800   36 months   11.99%      425.09   \n",
      "1      9000        9000            9000   36 months   15.31%      313.36   \n",
      "2      8000        8000            8000   36 months   10.75%      260.97   \n",
      "3     25000       25000           25000   60 months   12.99%       568.7   \n",
      "4     35000       35000           35000   60 months   18.25%      893.54   \n",
      "\n",
      "  grade sub_grade              emp_title emp_length  ... pct_tl_nvr_dlq  \\\n",
      "0     C        C1  LOGISTICS COORDINATOR    6 years  ...            100   \n",
      "1     C        C5  Senior Case Assistant    9 years  ...           92.3   \n",
      "2     B        B4                     Vp    5 years  ...            100   \n",
      "3     C        C2         Administration  10+ years  ...            100   \n",
      "4     D        D3           Electrician   10+ years  ...            100   \n",
      "\n",
      "  percent_bc_gt_75 pub_rec_bankruptcies tax_liens tot_hi_cred_lim  \\\n",
      "0              100                    1         0          235600   \n",
      "1               80                    0         0           58425   \n",
      "2               50                    0         0           78840   \n",
      "3               20                    1         0           58967   \n",
      "4               50                    0         0          355711   \n",
      "\n",
      "  total_bal_ex_mort total_bc_limit total_il_high_credit_limit hardship_flag  \\\n",
      "0             32004           7900                      34024             N   \n",
      "1             52953          15900                      42525             N   \n",
      "2             62125          22000                      56040             N   \n",
      "3             11565          17000                      35867             N   \n",
      "4             85626          51500                      53811             N   \n",
      "\n",
      "  debt_settlement_flag  \n",
      "0                    N  \n",
      "1                    N  \n",
      "2                    N  \n",
      "3                    N  \n",
      "4                    N  \n",
      "\n",
      "[5 rows x 100 columns]\n"
     ]
    }
   ],
   "source": [
    "# Calculate the percentage of missing values for each column\n",
    "missing_percentage = df.isnull().mean() * 100\n",
    "\n",
    "# Filter out columns where more than 30% of the data is missing\n",
    "columns_to_keep = missing_percentage[missing_percentage <= 30].index.tolist()\n",
    "filtered_df = df[columns_to_keep]\n",
    "\n",
    "# If you need to check the resulting DataFrame or save it to a new file\n",
    "print(filtered_df.head())  # To display the first few rows of the filtered DataFrame\n",
    "### filtered_df.to_csv('filtered_loanstats_web.csv', index=False)  # To save the filtered DataFrame to a new CSV file"
   ]
  },
  {
   "cell_type": "code",
   "execution_count": 7,
   "id": "cdf9a24e-ceda-4fce-ac7e-34316a85d006",
   "metadata": {},
   "outputs": [],
   "source": [
    "#filtered_df['loan_amnt'].isnull().value_counts()"
   ]
  },
  {
   "cell_type": "code",
   "execution_count": 8,
   "id": "073be74f-214d-4357-adda-1205e3ba63d8",
   "metadata": {},
   "outputs": [],
   "source": [
    "#! pip install numpy scipy"
   ]
  },
  {
   "cell_type": "code",
   "execution_count": 9,
   "id": "af877ac2-8d64-4fe8-8c3b-c0fa8fd3cdb6",
   "metadata": {},
   "outputs": [],
   "source": [
    "df = filtered_df"
   ]
  },
  {
   "cell_type": "code",
   "execution_count": 10,
   "id": "82f07f82-0cd4-4efa-be88-006dc75430aa",
   "metadata": {},
   "outputs": [
    {
     "name": "stdout",
     "output_type": "stream",
     "text": [
      "<class 'pandas.core.frame.DataFrame'>\n",
      "RangeIndex: 1432466 entries, 0 to 1432465\n",
      "Data columns (total 100 columns):\n",
      " #   Column                      Non-Null Count    Dtype \n",
      "---  ------                      --------------    ----- \n",
      " 0   loan_amnt                   1432440 non-null  object\n",
      " 1   funded_amnt                 1432440 non-null  object\n",
      " 2   funded_amnt_inv             1432440 non-null  object\n",
      " 3   term                        1432440 non-null  object\n",
      " 4   int_rate                    1432440 non-null  object\n",
      " 5   installment                 1432440 non-null  object\n",
      " 6   grade                       1432440 non-null  object\n",
      " 7   sub_grade                   1432440 non-null  object\n",
      " 8   emp_title                   1302202 non-null  object\n",
      " 9   emp_length                  1323970 non-null  object\n",
      " 10  home_ownership              1432440 non-null  object\n",
      " 11  annual_inc                  1432440 non-null  object\n",
      " 12  verification_status         1432440 non-null  object\n",
      " 13  issue_d                     1432440 non-null  object\n",
      " 14  loan_status                 1432440 non-null  object\n",
      " 15  pymnt_plan                  1432440 non-null  object\n",
      " 16  purpose                     1432440 non-null  object\n",
      " 17  title                       1409267 non-null  object\n",
      " 18  zip_code                    1432436 non-null  object\n",
      " 19  addr_state                  1432440 non-null  object\n",
      " 20  dti                         1430856 non-null  object\n",
      " 21  delinq_2yrs                 1432440 non-null  object\n",
      " 22  earliest_cr_line            1432440 non-null  object\n",
      " 23  inq_last_6mths              1432439 non-null  object\n",
      " 24  open_acc                    1432440 non-null  object\n",
      " 25  pub_rec                     1432440 non-null  object\n",
      " 26  revol_bal                   1432440 non-null  object\n",
      " 27  revol_util                  1431251 non-null  object\n",
      " 28  total_acc                   1432440 non-null  object\n",
      " 29  initial_list_status         1432440 non-null  object\n",
      " 30  out_prncp                   1432440 non-null  object\n",
      " 31  out_prncp_inv               1432440 non-null  object\n",
      " 32  total_pymnt                 1432440 non-null  object\n",
      " 33  total_pymnt_inv             1432440 non-null  object\n",
      " 34  total_rec_prncp             1432440 non-null  object\n",
      " 35  total_rec_int               1432440 non-null  object\n",
      " 36  total_rec_late_fee          1432440 non-null  object\n",
      " 37  recoveries                  1432440 non-null  object\n",
      " 38  collection_recovery_fee     1432440 non-null  object\n",
      " 39  last_pymnt_d                1430623 non-null  object\n",
      " 40  last_pymnt_amnt             1432440 non-null  object\n",
      " 41  last_credit_pull_d          1432416 non-null  object\n",
      " 42  collections_12_mths_ex_med  1432440 non-null  object\n",
      " 43  policy_code                 1432440 non-null  object\n",
      " 44  application_type            1432440 non-null  object\n",
      " 45  acc_now_delinq              1432440 non-null  object\n",
      " 46  tot_coll_amt                1432440 non-null  object\n",
      " 47  tot_cur_bal                 1432440 non-null  object\n",
      " 48  open_acc_6m                 1432378 non-null  object\n",
      " 49  open_act_il                 1432379 non-null  object\n",
      " 50  open_il_12m                 1432379 non-null  object\n",
      " 51  open_il_24m                 1432379 non-null  object\n",
      " 52  mths_since_rcnt_il          1388371 non-null  object\n",
      " 53  total_bal_il                1432379 non-null  object\n",
      " 54  il_util                     1224896 non-null  object\n",
      " 55  open_rv_12m                 1432379 non-null  object\n",
      " 56  open_rv_24m                 1432379 non-null  object\n",
      " 57  max_bal_bc                  1432379 non-null  object\n",
      " 58  all_util                    1432191 non-null  object\n",
      " 59  total_rev_hi_lim            1432440 non-null  object\n",
      " 60  inq_fi                      1432379 non-null  object\n",
      " 61  total_cu_tl                 1432378 non-null  object\n",
      " 62  inq_last_12m                1432378 non-null  object\n",
      " 63  acc_open_past_24mths        1432440 non-null  object\n",
      " 64  avg_cur_bal                 1432393 non-null  object\n",
      " 65  bc_open_to_buy              1415954 non-null  object\n",
      " 66  bc_util                     1415312 non-null  object\n",
      " 67  chargeoff_within_12_mths    1432440 non-null  object\n",
      " 68  delinq_amnt                 1432440 non-null  object\n",
      " 69  mo_sin_old_il_acct          1388426 non-null  object\n",
      " 70  mo_sin_old_rev_tl_op        1432440 non-null  object\n",
      " 71  mo_sin_rcnt_rev_tl_op       1432440 non-null  object\n",
      " 72  mo_sin_rcnt_tl              1432440 non-null  object\n",
      " 73  mort_acc                    1432440 non-null  object\n",
      " 74  mths_since_recent_bc        1416830 non-null  object\n",
      " 75  mths_since_recent_inq       1266039 non-null  object\n",
      " 76  num_accts_ever_120_pd       1432440 non-null  object\n",
      " 77  num_actv_bc_tl              1432440 non-null  object\n",
      " 78  num_actv_rev_tl             1432440 non-null  object\n",
      " 79  num_bc_sats                 1432440 non-null  object\n",
      " 80  num_bc_tl                   1432440 non-null  object\n",
      " 81  num_il_tl                   1432440 non-null  object\n",
      " 82  num_op_rev_tl               1432440 non-null  object\n",
      " 83  num_rev_accts               1432440 non-null  object\n",
      " 84  num_rev_tl_bal_gt_0         1432440 non-null  object\n",
      " 85  num_sats                    1432440 non-null  object\n",
      " 86  num_tl_120dpd_2m            1376689 non-null  object\n",
      " 87  num_tl_30dpd                1432440 non-null  object\n",
      " 88  num_tl_90g_dpd_24m          1432440 non-null  object\n",
      " 89  num_tl_op_past_12m          1432440 non-null  object\n",
      " 90  pct_tl_nvr_dlq              1432438 non-null  object\n",
      " 91  percent_bc_gt_75            1415902 non-null  object\n",
      " 92  pub_rec_bankruptcies        1432440 non-null  object\n",
      " 93  tax_liens                   1432440 non-null  object\n",
      " 94  tot_hi_cred_lim             1432440 non-null  object\n",
      " 95  total_bal_ex_mort           1432440 non-null  object\n",
      " 96  total_bc_limit              1432440 non-null  object\n",
      " 97  total_il_high_credit_limit  1432440 non-null  object\n",
      " 98  hardship_flag               1432440 non-null  object\n",
      " 99  debt_settlement_flag        1432440 non-null  object\n",
      "dtypes: object(100)\n",
      "memory usage: 1.1+ GB\n"
     ]
    }
   ],
   "source": [
    "df.info()"
   ]
  },
  {
   "cell_type": "markdown",
   "id": "4c00fdc4-56e7-457f-88eb-0dc306d8dffd",
   "metadata": {},
   "source": [
    "### คำถาม: ในข้อมูลนี้เป็นลูกค้าที่ได้รับเงินกู้ทั้งหมด อยากทราบว่า การระบุ title หรือ ไม่ระบุ มีความสัมพันธ์กับจำนวนเงินกู้หรือไม่ มากน้อยแค่ไหน"
   ]
  },
  {
   "cell_type": "raw",
   "id": "d2f1843e-fdc8-49a9-a4dd-7088f4f53c78",
   "metadata": {},
   "source": [
    "การใช้ t-test อาจเป็นทางเลือกที่ง่ายขึ้นสำหรับการเปรียบเทียบค่าเฉลี่ยระหว่างสองกลุ่ม โดยเฉพาะถ้าข้อมูลของคุณตรงกับเงื่อนไขสำหรับการทำ Independent t-test, ซึ่งรวมถึง:\n",
    "\n",
    "    ข้อมูลมีการแจกแจงแบบปกติ (Normal distribution) ในแต่ละกลุ่มที่จะเปรียบเทียบ\n",
    "    มีความสัมพันธ์ระหว่างข้อมูลที่เป็นอิสระต่อกัน (ไม่เกี่ยวข้องกัน)\n",
    "    ความแปรปรวน (Variance) ของข้อมูลในสองกลุ่มนั้นเท่ากันหรือใกล้เคียงกัน\n",
    "\n",
    "หากข้อมูลของคุณไม่ตรงกับเงื่อนไขเหล่านี้, การใช้ t-test อาจไม่เหมาะสมและอาจนำไปสู่การตีความผลลัพธ์ที่ไม่ถูกต้อง หากคุณไม่แน่ใจเกี่ยวกับการแจกแจงของข้อมูลหรือความแปรปรวนของข้อมูล, การทดสอบที่ไม่ขึ้นกับพารามิเตอร์ เช่น Mann-Whitney U test ที่ได้พูดถึงไปก่อนหน้านี้, อาจเป็นทางเลือกที่ดีกว่า"
   ]
  },
  {
   "cell_type": "code",
   "execution_count": 11,
   "id": "b6be8458-4b00-4ae6-b37f-ae5275dee3a5",
   "metadata": {},
   "outputs": [
    {
     "name": "stdout",
     "output_type": "stream",
     "text": [
      "Statistics=16183713203.500, p=0.020\n",
      "Different distribution (reject H0)\n"
     ]
    }
   ],
   "source": [
    "import pandas as pd\n",
    "import numpy as np\n",
    "from scipy.stats import mannwhitneyu\n",
    "\n",
    "# โหลดข้อมูล (สมมติฐาน)\n",
    "# df = pd.read_csv('path_to_your_file.csv')\n",
    "\n",
    "# สร้างสำเนาเพื่อหลีกเลี่ยง SettingWithCopyWarning\n",
    "df_clean = df.copy()\n",
    "\n",
    "# ลบแถวที่ 'loan_amnt' เป็น NaN\n",
    "df_clean = df_clean.dropna(subset=['loan_amnt'])\n",
    "\n",
    "# แปลงคอลัมน์ 'loan_amnt' ให้เป็นชนิดข้อมูลตัวเลขโดยใช้ pd.to_numeric() \n",
    "# และจัดการกับค่าที่ไม่สามารถแปลงเป็นตัวเลขได้ โดยการแปลงค่าเหล่านั้นให้กลายเป็น NaN\n",
    "### df_clean['loan_amnt'] = pd.to_numeric(df_clean['loan_amnt'], errors='coerce')\n",
    "\n",
    "# แยกข้อมูลเป็นสองกลุ่ม: target เป็น null และไม่เป็น null\n",
    "loan_amnt_null = df_clean[df_clean[target].isnull()]['loan_amnt']\n",
    "loan_amnt_notnull = df_clean[df_clean[target].notnull()]['loan_amnt']\n",
    "\n",
    "# แปลงชนิดข้อมูลเป็นตัวเลขและลบค่า NaN\n",
    "loan_amnt_null = pd.to_numeric(loan_amnt_null, errors='coerce').dropna()\n",
    "loan_amnt_notnull = pd.to_numeric(loan_amnt_notnull, errors='coerce').dropna()\n",
    "\n",
    "# ทำการทดสอบ Mann-Whitney U\n",
    "stat, p = mannwhitneyu(loan_amnt_null, loan_amnt_notnull, alternative='two-sided')\n",
    "\n",
    "print('Statistics=%.3f, p=%.3f' % (stat, p))\n",
    "\n",
    "# ตีความผลลัพธ์\n",
    "alpha = 0.05\n",
    "if p > alpha:\n",
    "    print('Same distribution (fail to reject H0)')\n",
    "else:\n",
    "    print('Different distribution (reject H0)')\n"
   ]
  },
  {
   "cell_type": "code",
   "execution_count": 12,
   "id": "b722e096-cfa9-43de-b68b-49f518cfb40f",
   "metadata": {},
   "outputs": [
    {
     "data": {
      "text/plain": [
       "16        18000\n",
       "49        12000\n",
       "70         5800\n",
       "73         5200\n",
       "88        16550\n",
       "          ...  \n",
       "330857    28600\n",
       "430327     6875\n",
       "432162    20075\n",
       "434410    40000\n",
       "434412    14000\n",
       "Name: loan_amnt, Length: 23173, dtype: int64"
      ]
     },
     "execution_count": 12,
     "metadata": {},
     "output_type": "execute_result"
    }
   ],
   "source": [
    "loan_amnt_null"
   ]
  },
  {
   "cell_type": "code",
   "execution_count": 13,
   "id": "dd529489-4253-412a-b4c6-cf14772e0c7a",
   "metadata": {},
   "outputs": [
    {
     "data": {
      "text/plain": [
       "0          12800\n",
       "1           9000\n",
       "2           8000\n",
       "3          25000\n",
       "4          35000\n",
       "           ...  \n",
       "1432459     5000\n",
       "1432460     6000\n",
       "1432461    16000\n",
       "1432462    16000\n",
       "1432463    29250\n",
       "Name: loan_amnt, Length: 1409267, dtype: int64"
      ]
     },
     "execution_count": 13,
     "metadata": {},
     "output_type": "execute_result"
    }
   ],
   "source": [
    "loan_amnt_notnull"
   ]
  },
  {
   "cell_type": "code",
   "execution_count": 14,
   "id": "7649e38f-fd57-4fac-8012-46d04b94b81f",
   "metadata": {},
   "outputs": [],
   "source": [
    "#! pip install seaborn"
   ]
  },
  {
   "cell_type": "code",
   "execution_count": null,
   "id": "2b59d41e-bea0-4306-a787-47ea764c068c",
   "metadata": {},
   "outputs": [],
   "source": []
  },
  {
   "cell_type": "code",
   "execution_count": 15,
   "id": "8866c941-817e-4716-aaef-ca9006625ad8",
   "metadata": {},
   "outputs": [
    {
     "data": {
      "image/png": "[encoded data removed]",
      "text/plain": [
       "<Figure size 1000x600 with 1 Axes>"
      ]
     },
     "metadata": {},
     "output_type": "display_data"
    },
    {
     "data": {
      "image/png": "[encoded data removed]",
      "text/plain": [
       "<Figure size 1000x600 with 1 Axes>"
      ]
     },
     "metadata": {},
     "output_type": "display_data"
    }
   ],
   "source": [
    "import seaborn as sns\n",
    "import matplotlib.pyplot as plt\n",
    "\n",
    "\n",
    "# สร้าง DataFrame เพื่อการแสดงผล\n",
    "# หมายเหตุ: คุณต้องปรับเปลี่ยนตัวแปร loan_amnt_null และ loan_amnt_notnull ให้เกี่ยวข้องกับตัวแปร target ของคุณ\n",
    "plot_data = pd.DataFrame({\n",
    "    'loan_amnt': pd.concat([loan_amnt_null, loan_amnt_notnull]),\n",
    "    'Group': [f'{target} Null']*len(loan_amnt_null) + [f'{target} Not Null']*len(loan_amnt_notnull)\n",
    "})\n",
    "\n",
    "# Box Plot\n",
    "plt.figure(figsize=(10, 6))\n",
    "sns.boxplot(x='Group', y='loan_amnt', data=plot_data)\n",
    "plt.title(f'Box Plot of Funded Amount by {target} Presence')\n",
    "plt.show()\n",
    "\n",
    "# Violin Plot\n",
    "plt.figure(figsize=(10, 6))\n",
    "sns.violinplot(x='Group', y='loan_amnt', data=plot_data)\n",
    "plt.title(f'Violin Plot of Funded Amount by {target} Presence')\n",
    "plt.show()"
   ]
  },
  {
   "cell_type": "raw",
   "id": "fc0206b4-28f5-4fd1-8a6e-652b828652f9",
   "metadata": {},
   "source": [
    "ดูจากแผนภูมิกล่องและแผนภูมิ violin ที่คุณส่งมา, มีหลายวิธีที่เราสามารถตีความข้อมูล:\n",
    "\n",
    "    แผนภูมิกล่อง (Box Plot): จากแผนภูมิกล่อง, เราสามารถเห็นว่ามีความแตกต่างระหว่างการกระจายของค่า loan_amnt สำหรับกลุ่มที่ title เป็น null และกลุ่มที่ไม่เป็น null. กลุ่มที่ title เป็น null ดูเหมือนจะมีการกระจายที่กว้างกว่าและมีค่าผิดปกติ (outliers) มากกว่า.\n",
    "\n",
    "    แผนภูมิ violin (Violin Plot): แผนภูมิ violin แสดงให้เห็นถึงการกระจายของข้อมูลที่ลึกกว่าแผนภูมิกล่อง โดยรวมการประเมินความหนาแน่นของข้อมูล (density estimate). จากแผนภูมินี้เราสามารถเห็นว่าการกระจายของข้อมูลในทั้งสองกลุ่มนั้นคล้ายกันในบางส่วน แต่มีความแตกต่างชัดเจนที่ปลายบนของการกระจาย (ค่าที่สูง) และอาจมีการกระจายที่หนาแน่นที่ค่าที่ต่ำกว่าในกลุ่มที่ไม่มี title.\n",
    "\n",
    "การตีความจากทั้งสองแผนภูมิคือมีความแตกต่างในการกระจายของข้อมูล loan_amnt ระหว่างกลุ่มที่มี title และไม่มี title, โดยกลุ่มที่ไม่มี title มีความแปรปรวนสูงกว่าและมีค่าที่สูงกว่าเป็นค่าผิดปกติมากกว่า นอกจากนี้ แผนภูมิ violin ยังช่วยให้เห็นว่าทั้งสองกลุ่มมีความหนาแน่นของข้อมูลที่สูงในระดับค่าที่ต่ำกว่าซึ่งมีการกระจายคล้ายกัน.\n",
    "\n",
    "ในบริบทของการทดสอบสถิติ Mann-Whitney U ที่บ่งชี้ว่ามีการกระจายที่แตกต่างกันระหว่างสองกลุ่ม, การแสดงผลเหล่านี้เสริมการตีความว่าการมีหรือไม่มี title อาจส่งผลต่อขนาดของเงินกู้ที่ได้รับจากผู้กู้.\n"
   ]
  },
  {
   "cell_type": "raw",
   "id": "e257e7a5-1fac-4323-9bfe-3883db25f4fc",
   "metadata": {},
   "source": [
    "From the box plot and violin plot you provided, we can interpret the data in the following ways:\n",
    "\n",
    "    Box Plot: The box plot reveals differences in the distribution of loan_amnt between the groups where title is null and not null. The group with title null seems to have a wider spread and more outliers.\n",
    "\n",
    "    Violin Plot: The violin plot offers a deeper view into the distribution of data by including a kernel density estimate. It shows that while there are similarities in the data distribution between the two groups, there are distinct differences at the upper ends (higher values) and potentially a denser distribution of lower values in the group without title.\n",
    "\n",
    "The interpretation from both plots suggests that there is a variation in the distribution of loan_amnt between the groups with and without title, where the group without title shows higher variability and more extreme higher values as outliers. Additionally, the violin plot helps to identify that both groups have a high density of data at the lower values, which are similarly distributed.\n",
    "\n",
    "In the context of the Mann-Whitney U test that indicates a difference in distributions between the two groups, these visualizations support the interpretation that the presence or absence of title may influence the amount of loan funded to borrowers."
   ]
  },
  {
   "cell_type": "code",
   "execution_count": 16,
   "id": "909c5ac6-cfb5-43c5-a792-8bb74be7ede5",
   "metadata": {},
   "outputs": [
    {
     "data": {
      "text/html": [
       "<div>\n",
       "<style scoped>\n",
       "    .dataframe tbody tr th:only-of-type {\n",
       "        vertical-align: middle;\n",
       "    }\n",
       "\n",
       "    .dataframe tbody tr th {\n",
       "        vertical-align: top;\n",
       "    }\n",
       "\n",
       "    .dataframe thead th {\n",
       "        text-align: right;\n",
       "    }\n",
       "</style>\n",
       "<table border=\"1\" class=\"dataframe\">\n",
       "  <thead>\n",
       "    <tr style=\"text-align: right;\">\n",
       "      <th></th>\n",
       "      <th>title</th>\n",
       "      <th>loan_amnt</th>\n",
       "    </tr>\n",
       "  </thead>\n",
       "  <tbody>\n",
       "    <tr>\n",
       "      <th>count</th>\n",
       "      <td>1409267</td>\n",
       "      <td>1432440</td>\n",
       "    </tr>\n",
       "    <tr>\n",
       "      <th>unique</th>\n",
       "      <td>13</td>\n",
       "      <td>1561</td>\n",
       "    </tr>\n",
       "    <tr>\n",
       "      <th>top</th>\n",
       "      <td>Debt consolidation</td>\n",
       "      <td>10000</td>\n",
       "    </tr>\n",
       "    <tr>\n",
       "      <th>freq</th>\n",
       "      <td>777180</td>\n",
       "      <td>129564</td>\n",
       "    </tr>\n",
       "  </tbody>\n",
       "</table>\n",
       "</div>"
      ],
      "text/plain": [
       "                     title loan_amnt\n",
       "count              1409267   1432440\n",
       "unique                  13      1561\n",
       "top     Debt consolidation     10000\n",
       "freq                777180    129564"
      ]
     },
     "execution_count": 16,
     "metadata": {},
     "output_type": "execute_result"
    }
   ],
   "source": [
    "df[[target,'loan_amnt']].describe()"
   ]
  },
  {
   "cell_type": "code",
   "execution_count": 17,
   "id": "832f82bd-af3e-417d-b022-a839ceaba134",
   "metadata": {},
   "outputs": [
    {
     "data": {
      "text/html": [
       "<div>\n",
       "<style scoped>\n",
       "    .dataframe tbody tr th:only-of-type {\n",
       "        vertical-align: middle;\n",
       "    }\n",
       "\n",
       "    .dataframe tbody tr th {\n",
       "        vertical-align: top;\n",
       "    }\n",
       "\n",
       "    .dataframe thead th {\n",
       "        text-align: right;\n",
       "    }\n",
       "</style>\n",
       "<table border=\"1\" class=\"dataframe\">\n",
       "  <thead>\n",
       "    <tr style=\"text-align: right;\">\n",
       "      <th></th>\n",
       "      <th>title</th>\n",
       "      <th>loan_amnt</th>\n",
       "    </tr>\n",
       "  </thead>\n",
       "  <tbody>\n",
       "    <tr>\n",
       "      <th>count</th>\n",
       "      <td>1409267</td>\n",
       "      <td>1432440</td>\n",
       "    </tr>\n",
       "    <tr>\n",
       "      <th>unique</th>\n",
       "      <td>13</td>\n",
       "      <td>1561</td>\n",
       "    </tr>\n",
       "    <tr>\n",
       "      <th>top</th>\n",
       "      <td>Debt consolidation</td>\n",
       "      <td>10000</td>\n",
       "    </tr>\n",
       "    <tr>\n",
       "      <th>freq</th>\n",
       "      <td>777180</td>\n",
       "      <td>129564</td>\n",
       "    </tr>\n",
       "  </tbody>\n",
       "</table>\n",
       "</div>"
      ],
      "text/plain": [
       "                     title loan_amnt\n",
       "count              1409267   1432440\n",
       "unique                  13      1561\n",
       "top     Debt consolidation     10000\n",
       "freq                777180    129564"
      ]
     },
     "execution_count": 17,
     "metadata": {},
     "output_type": "execute_result"
    }
   ],
   "source": [
    "df_clean[[target,'loan_amnt']].describe()"
   ]
  },
  {
   "cell_type": "code",
   "execution_count": 18,
   "id": "9dbdfa0b-ef5d-4f12-b8c5-a643396d22f1",
   "metadata": {},
   "outputs": [
    {
     "data": {
      "text/plain": [
       "title\n",
       "Business                      14798\n",
       "Car financing                 15108\n",
       "Credit Card Consolidation         1\n",
       "Credit card refinancing      329697\n",
       "Debt consolidation           777180\n",
       "Green loan                      894\n",
       "Home buying                    9813\n",
       "Home improvement              97620\n",
       "Major purchase                32254\n",
       "Medical expenses              18575\n",
       "Moving and relocation          9625\n",
       "Other                         93274\n",
       "Vacation                      10428\n",
       "dtype: int64"
      ]
     },
     "execution_count": 18,
     "metadata": {},
     "output_type": "execute_result"
    }
   ],
   "source": [
    "df_clean.groupby(target).size()"
   ]
  },
  {
   "cell_type": "code",
   "execution_count": null,
   "id": "3eee0b39-98a8-450e-b962-e51469094fa5",
   "metadata": {},
   "outputs": [],
   "source": []
  }
 ],
 "metadata": {
  "kernelspec": {
   "display_name": "Python 3 (ipykernel)",
   "language": "python",
   "name": "python3"
  },
  "language_info": {
   "codemirror_mode": {
    "name": "ipython",
    "version": 3
   },
   "file_extension": ".py",
   "mimetype": "text/x-python",
   "name": "python",
   "nbconvert_exporter": "python",
   "pygments_lexer": "ipython3",
   "version": "3.8.18"
  }
 },
 "nbformat": 4,
 "nbformat_minor": 5
}
