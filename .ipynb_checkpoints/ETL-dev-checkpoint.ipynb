{
 "cells": [
  {
   "cell_type": "code",
   "execution_count": null,
   "id": "9fa52606-b322-462f-ac64-7f2ba96113b8",
   "metadata": {},
   "outputs": [],
   "source": [
    "import re\n",
    "import pandas as pd"
   ]
  },
  {
   "cell_type": "code",
   "execution_count": null,
   "id": "31aeff10-f4b6-4025-9267-e007a1367ba8",
   "metadata": {},
   "outputs": [],
   "source": [
    "### กำหนด data type ที่เหมาะสมกับ attribute values (Custom data types) ###\n",
    "\n",
    "\n",
    "def guess_column_types(file_path, delimiter=',', has_headers=True):\n",
    "    try:\n",
    "        # Read the CSV file using the specified delimiter and header settings\n",
    "        df = pd.read_csv(file_path, sep=delimiter,low_memory=False, header=0 if has_headers else None)\n",
    "\n",
    "        # Initialize a dictionary to store column data types\n",
    "        column_types = {}\n",
    "\n",
    "        # Loop through columns and infer data types\n",
    "        for column in df.columns:\n",
    "            # sample_values = df[column].dropna().sample(min(5, len(df[column])), random_state=42)\n",
    "\n",
    "            # Check for datetime format \"YYYY-MM-DD HH:MM:SS\"\n",
    "            is_datetime = all(re.match(r'\\d{4}-\\d{2}-\\d{2} \\d{2}:\\d{2}:\\d{2}', str(value)) for value in df[column])\n",
    "\n",
    "            # Check for date format \"YYYY-MM-DD\"\n",
    "            is_date = all(re.match(r'\\d{4}-\\d{2}-\\d{2}', str(value)) for value in df[column])\n",
    "\n",
    "            # Assign data type based on format detection\n",
    "            if is_datetime:\n",
    "                inferred_type = 'datetime64'\n",
    "            elif is_date:\n",
    "                inferred_type = 'date'\n",
    "            else:\n",
    "                inferred_type = pd.api.types.infer_dtype(df[column], skipna=True)\n",
    "\n",
    "            column_types[column] = inferred_type\n",
    "\n",
    "        return (True, column_types)  # Return success and column types\n",
    "    except pd.errors.ParserError:\n",
    "        return (False, str(e))  # Return error message"
   ]
  },
  {
   "cell_type": "code",
   "execution_count": null,
   "id": "7620bebc-230f-48ba-8349-f98a595d2d73",
   "metadata": {},
   "outputs": [],
   "source": [
    "file_path = '../data/LoanStats_web.csv'\n",
    "result, column_types_or_error = guess_column_types(file_path)\n",
    "\n",
    "if result:\n",
    "    print(\"Column Types:\", column_types_or_error)\n",
    "else:\n",
    "    print(\"Error:\", column_types_or_error)\n"
   ]
  },
  {
   "cell_type": "code",
   "execution_count": null,
   "id": "58643a4d-b8c9-4d07-a4c1-9041e3723967",
   "metadata": {},
   "outputs": [],
   "source": [
    "# เปลี่ยน data type บางตัว ให้เหมาะสมกับ python's environment และ MSSQL\n",
    "column_types_corrected = {col: ('datetime64' if t == 'date' else 'float64' if t == 'floating' else t) \\\n",
    "                          for col, t in column_types_or_error.items()}"
   ]
  },
  {
   "cell_type": "code",
   "execution_count": null,
   "id": "3949840e-4a31-463c-a231-09851918c3a0",
   "metadata": {},
   "outputs": [],
   "source": [
    "### นำ dictionary ที่บรรจุ ชื่อ col และ data type มาใช้เป็น parameter ของการทำ pd.read_csv ( ) อ่าน csv มาเป็น dataframe ###\n",
    "raw_df = pd.read_csv('../data/LoanStats_web.csv', dtype=column_types_corrected)"
   ]
  },
  {
   "cell_type": "code",
   "execution_count": null,
   "id": "0b250049-12b4-470c-9c2e-ebd2ffec65da",
   "metadata": {},
   "outputs": [],
   "source": [
    "# คำนวน percentage ของ missing values ของแต่ละ col. ใน dataframe (raw_df)\n",
    "missing_percentage = raw_df.isnull().mean() * 100\n",
    "\n",
    "# กรอง columns ที่มี null เกินกว่า 30% ออกไป\n",
    "columns_to_keep = missing_percentage[missing_percentage <= 30].index.tolist()\n",
    "filteredCol_df = raw_df[columns_to_keep]"
   ]
  },
  {
   "cell_type": "code",
   "execution_count": null,
   "id": "af877ac2-8d64-4fe8-8c3b-c0fa8fd3cdb6",
   "metadata": {},
   "outputs": [],
   "source": [
    "raw_df = filteredCol_df"
   ]
  },
  {
   "cell_type": "code",
   "execution_count": null,
   "id": "82f07f82-0cd4-4efa-be88-006dc75430aa",
   "metadata": {},
   "outputs": [],
   "source": [
    "raw_df.info()"
   ]
  },
  {
   "cell_type": "code",
   "execution_count": null,
   "id": "4ce5cf40-8860-4eb1-86ca-8e93f99ce1e1",
   "metadata": {},
   "outputs": [],
   "source": [
    "raw_df.columns"
   ]
  },
  {
   "cell_type": "code",
   "execution_count": null,
   "id": "dc44308a-b875-4b31-812c-684c03ee1694",
   "metadata": {},
   "outputs": [],
   "source": [
    "acceptableMax_null = 26"
   ]
  },
  {
   "cell_type": "code",
   "execution_count": null,
   "id": "cf66f2cc-2c37-42d2-a9cd-162e6ac6ebd9",
   "metadata": {},
   "outputs": [],
   "source": [
    "# สร้างรายการของคอลัมน์ที่มี Non-Null จำนวน 1,432,440\n",
    "## selected_columns = [col for col in raw_df.columns if raw_df[col].notnull().sum() == 1432440]\n",
    "selected_columns = [col for col in raw_df.columns if raw_df[col].isnull().sum() <= acceptableMax_null]\n",
    "\n",
    "# แสดงคอลัมน์ที่เลือก\n",
    "print(\"Selected columns:\", selected_columns)\n",
    "\n",
    "# สร้าง DataFrame ใหม่จากคอลัมน์ที่เลือก\n",
    "df_selected = raw_df[selected_columns]\n",
    "\n",
    "\n",
    "# ลบแถวที่มีค่า null ในคอลัมน์เหล่านั้น\n",
    "noNull_df = df_selected.dropna()\n",
    "\n",
    "# แสดงข้อมูลทั่วไปของ DataFrame หลังจากลบ null\n",
    "noNull_df.info()"
   ]
  },
  {
   "cell_type": "code",
   "execution_count": null,
   "id": "6f21c105-e767-40d7-9f25-847e365e6a5e",
   "metadata": {},
   "outputs": [],
   "source": [
    "# ทำสำเนาตัวแปร โดยหลังจากนี้ หากเกิดความเปลี่ยนแปลงกับ ตัวแปรใหม่ (df_prepared) จะไม่ส่งผลใดๆ ต่อตัวแปรเดิม (noNull_df)\n",
    "df_prepared = noNull_df.copy()\n",
    "\n",
    "# เปลี่ยน data type เป็น datetime สำหรับ col: issue_d\n",
    "df_prepared['issue_d'] = pd.to_datetime(df_prepared['issue_d'], format='%b-%Y')\n",
    "\n",
    "# นำเครื่องหมาย % ออกจากค่าใน col: int_rate แล้วเปลี่ยน data type เป็น float\n",
    "if df_prepared['int_rate'].dtype == 'string':\n",
    "    df_prepared['int_rate'] = df_prepared['int_rate'].str.rstrip('%').astype('float') / 100.0"
   ]
  },
  {
   "cell_type": "code",
   "execution_count": null,
   "id": "e31f65e8-ab96-4987-9a39-ae6dded7ec2a",
   "metadata": {},
   "outputs": [],
   "source": [
    "df_prepared.info()"
   ]
  },
  {
   "cell_type": "code",
   "execution_count": null,
   "id": "03b24337-986d-41d1-9740-73fc7daca158",
   "metadata": {},
   "outputs": [],
   "source": [
    "df_prepared.groupby('issue_d').size()"
   ]
  },
  {
   "cell_type": "code",
   "execution_count": null,
   "id": "7a493ae6-7be9-47b5-8f95-890e403e85d6",
   "metadata": {},
   "outputs": [],
   "source": [
    "df_prepared.groupby('int_rate').size()"
   ]
  },
  {
   "cell_type": "code",
   "execution_count": null,
   "id": "d23ea9e4-f5f8-4f6c-90f0-3c166640fc89",
   "metadata": {},
   "outputs": [],
   "source": [
    "## dimension table เป็นสิ่งที่อยู่ใน data warehouse ไม่ใช่ python\n",
    "## แต่เราจะใช้ python ไป create dim. table ใน data warehouse พร้อม insert ข้อมูลลงไปด้วย\n",
    "## ด้วยเหตุนี้ ครูเอ้จึงเสนอ idea สำหรับการใช้ python พัฒนา dim. table ดังนี้\n",
    "## (1) สร้าง dataframe ขึ้นมาใหม่ เพื่อทำหน้าที่เป็น dim. table โดยมีเฉพาะ col. ตาม dimensional model ที่ออกแบบไว้แล้ว\n",
    "## (2) สร้าง col. ใหม่ขึ้นมาบน dataframe ข้อ (1) เพื่อจะใช้เป็น primary key สำหรับ dim. table\n",
    "\n",
    "# ทำข้อ (1) สำหรับ home_ownership\n",
    "home_ownership_dim = df_prepared[['home_ownership']].drop_duplicates().reset_index(drop=True)\n",
    "home_ownership_dim.reset_index(inplace=True)\n",
    "# ทำข้อ (2) สำหรับ home_ownership\n",
    "home_ownership_dim['home_ownership_id'] = home_ownership_dim.index\n",
    "\n",
    "# ทำข้อ (1) สำหรับ loan_status\n",
    "loan_status_dim = df_prepared[['loan_status']].drop_duplicates().reset_index(drop=True)\n",
    "loan_status_dim.reset_index(inplace=True)\n",
    "# ทำข้อ (2) สำหรับ loan_status\n",
    "loan_status_dim['loan_status_id'] = loan_status_dim.index\n",
    "\n",
    "# ทำข้อ (1) สำหรับ สำหรับ issue_d\n",
    "issue_d_dim = df_prepared[['issue_d']].drop_duplicates().reset_index(drop=True)\n",
    "issue_d_dim['month'] = issue_d_dim['issue_d'].dt.month\n",
    "issue_d_dim['year'] = issue_d_dim['issue_d'].dt.year\n",
    "issue_d_dim.reset_index(inplace=True)\n",
    "# ทำข้อ (2) สำหรับ สำหรับ issue_d\n",
    "issue_d_dim['issue_d_id'] = issue_d_dim.index"
   ]
  },
  {
   "cell_type": "code",
   "execution_count": null,
   "id": "c99f2e80-818e-4d2d-a45b-fcdda0ed2c3a",
   "metadata": {},
   "outputs": [],
   "source": [
    "issue_d_dim"
   ]
  },
  {
   "cell_type": "code",
   "execution_count": null,
   "id": "5fa572a0-39c8-493f-89cb-923ca0eb94ac",
   "metadata": {},
   "outputs": [],
   "source": [
    "loan_status_dim"
   ]
  },
  {
   "cell_type": "code",
   "execution_count": null,
   "id": "77963613-62ca-4ade-9002-5214ea63fb7a",
   "metadata": {},
   "outputs": [],
   "source": [
    "home_ownership_dim"
   ]
  },
  {
   "cell_type": "code",
   "execution_count": null,
   "id": "9fca20fd-e2b1-4a44-8ff2-b2d193bf758f",
   "metadata": {},
   "outputs": [],
   "source": [
    "home_ownership_dim.set_index('home_ownership')"
   ]
  },
  {
   "cell_type": "code",
   "execution_count": null,
   "id": "d2a262a5-0aad-476a-a49d-dd0f02d02e81",
   "metadata": {},
   "outputs": [],
   "source": [
    "home_ownership_dim.set_index('home_ownership')['home_ownership_id']"
   ]
  },
  {
   "cell_type": "code",
   "execution_count": null,
   "id": "09ca5f9d-a386-4524-b6cf-ed922131ff4f",
   "metadata": {},
   "outputs": [],
   "source": [
    "home_ownership_dim.set_index('home_ownership')['home_ownership_id'].to_dict()"
   ]
  },
  {
   "cell_type": "code",
   "execution_count": null,
   "id": "c5ae7445-b214-45ee-90d9-bb01d621a5f5",
   "metadata": {},
   "outputs": [],
   "source": [
    "loan_status_dim.set_index('loan_status')['loan_status_id'].to_dict()"
   ]
  },
  {
   "cell_type": "code",
   "execution_count": null,
   "id": "91e9c049-2b3d-4688-8936-09f865dc3ec2",
   "metadata": {},
   "outputs": [],
   "source": [
    "issue_d_dim.set_index('issue_d')['issue_d_id'].to_dict()"
   ]
  },
  {
   "cell_type": "code",
   "execution_count": null,
   "id": "d86d7020-a6ab-4222-9613-43f1ec7ddc65",
   "metadata": {},
   "outputs": [],
   "source": [
    "## fact table เป็นสิ่งที่อยู่ใน data warehouse ไม่ใช่ python\n",
    "## แต่เราจะใช้ python ไป create fact table ใน data warehouse พร้อม insert ข้อมูลลงไปด้วย\n",
    "## ด้วยเหตุนี้ ครูเอ้จึงเสนอ idea สำหรับการใช้ python พัฒนา fact table ดังนี้\n",
    "## (1) สร้าง python's dict. ขึ้นมาใช้ key mapping (สร้าง foreign key ของ fact table ตรงกับ primary key ของ dim. table)\n",
    "## (2) dataframe ขึ้นมาใหม่ เพื่อทำหน้าที่เป็น fact table โดยนำ key mapping ตามข้อ 1 มาใช้ด้วย"
   ]
  },
  {
   "cell_type": "code",
   "execution_count": null,
   "id": "d7fb3b04-13d4-45e6-9373-1476bf2d36cc",
   "metadata": {},
   "outputs": [],
   "source": [
    "# ทำข้อ (1)\n",
    "home_ownership_map = home_ownership_dim.set_index('home_ownership')['home_ownership_id'].to_dict()\n",
    "loan_status_map = loan_status_dim.set_index('loan_status')['loan_status_id'].to_dict()\n",
    "issue_d_map = issue_d_dim.set_index('issue_d')['issue_d_id'].to_dict()"
   ]
  },
  {
   "cell_type": "code",
   "execution_count": null,
   "id": "5ad0bfce-7319-4f79-8d8f-611f6ab8bf82",
   "metadata": {},
   "outputs": [],
   "source": [
    "# ทำข้อ (2)\n",
    "loans_fact = df_prepared.copy()\n",
    "loans_fact['home_ownership_id'] = loans_fact['home_ownership'].map(home_ownership_map)\n",
    "loans_fact['loan_status_id'] = loans_fact['loan_status'].map(loan_status_map)\n",
    "loans_fact['issue_d_id'] = loans_fact['issue_d'].map(issue_d_map)\n",
    "\n",
    "# เลือกคอลัมน์ที่จำเป็นสำหรับ Fact Table\n",
    "loans_fact = loans_fact[['application_type','loan_amnt', 'funded_amnt', 'term', 'int_rate', 'installment'\\\n",
    "                         , 'home_ownership_id', 'loan_status_id', 'issue_d_id']]"
   ]
  },
  {
   "cell_type": "code",
   "execution_count": null,
   "id": "e596109a-797f-4151-b4b7-f5d0db9604de",
   "metadata": {},
   "outputs": [],
   "source": [
    "loans_fact.info()"
   ]
  },
  {
   "cell_type": "code",
   "execution_count": null,
   "id": "00ad2eb6-f627-47e4-8582-62b33d945b5e",
   "metadata": {},
   "outputs": [],
   "source": []
  },
  {
   "cell_type": "code",
   "execution_count": null,
   "id": "5839273c-707d-42ee-927c-5a39f443a7f3",
   "metadata": {},
   "outputs": [],
   "source": []
  },
  {
   "cell_type": "code",
   "execution_count": null,
   "id": "144f9cce-c8aa-4038-8ce2-5ffcf8503b78",
   "metadata": {},
   "outputs": [],
   "source": [
    "### เริ่มต้นเปลี่ยนเป็น raw cell ชั่วคราว ###"
   ]
  },
  {
   "cell_type": "code",
   "execution_count": null,
   "id": "427bfbee-8f08-40ca-9209-5b5fbce331e1",
   "metadata": {},
   "outputs": [],
   "source": [
    "## [optional] ทดสอบการ join ทุก dataframe ทั้ง fact และ dim. เข้าด้วยกัน\n",
    "\n",
    "# Join `loans_fact` กับ `home_ownership_dim` โดยใช้ 'home_ownership_id'\n",
    "loans_fact_with_home_ownership = pd.merge(loans_fact, home_ownership_dim, on='home_ownership_id', how='left', suffixes=('', '_home_ownership'))\n",
    "\n",
    "# Join ผลลัพธ์กับ `loan_status_dim` โดยใช้ 'loan_status_id'\n",
    "loans_fact_with_home_ownership_with_loan_status = pd.merge(loans_fact_with_home_ownership, loan_status_dim, on='loan_status_id', how='left', suffixes=('', '_loan_status'))\n",
    "\n",
    "# Join ผลลัพธ์กับ `issue_d_dim` โดยใช้ 'issue_d_id'\n",
    "final_df = pd.merge(loans_fact_with_home_ownership_with_loan_status, issue_d_dim, on='issue_d_id', how='left', suffixes=('', '_issue_d'))\n"
   ]
  },
  {
   "cell_type": "code",
   "execution_count": null,
   "id": "a88389a4-419a-49ac-aae9-ad9022880bd3",
   "metadata": {},
   "outputs": [],
   "source": [
    "## [optional] ผลลัพธ์จากการ join คือ final_df ต้องมี row เท่ากันกับ dataframe เดิม\n",
    "print(f\"จำนวนแถวใน noNull_df: {noNull_df.shape[0]}\")\n",
    "print(f\"จำนวนแถวใน final_df: {final_df.shape[0]}\")"
   ]
  },
  {
   "cell_type": "code",
   "execution_count": null,
   "id": "c1fc3a55-2f50-4976-9682-36905df29046",
   "metadata": {},
   "outputs": [],
   "source": [
    "## [optional] ผลลัพธ์จากการ join คือ final_df ต้องมีค่าของ measure เท่ากันกับ dataframe เดิม\n",
    "print(\"การเปรียบเทียบค่า loan_amnt จาก dataframe เดิม กับ fact:\")\n",
    "print(noNull_df['funded_amnt'].head())\n",
    "print(final_df['funded_amnt'].head())\n"
   ]
  },
  {
   "cell_type": "code",
   "execution_count": null,
   "id": "6ae8f6f7-a0c6-4860-8734-3d52d9d02f9d",
   "metadata": {},
   "outputs": [],
   "source": [
    "## [optional] ผลลัพธ์จากการ join คือ final_df ต้องไม่มี NULL เลย\n",
    "print(\"จำนวนค่า Null ใน final_df หลังจากการ join:\")\n",
    "print(final_df.isnull().sum())\n"
   ]
  },
  {
   "cell_type": "code",
   "execution_count": null,
   "id": "d435e267-0ee2-42d4-af2f-804aff839236",
   "metadata": {},
   "outputs": [],
   "source": [
    "### สิ้นสุดเปลี่ยนเป็น raw cell ชั่วคราว ###"
   ]
  },
  {
   "cell_type": "code",
   "execution_count": null,
   "id": "42400a1d-19d7-4448-99b3-db2b1cab4f4c",
   "metadata": {},
   "outputs": [],
   "source": []
  },
  {
   "cell_type": "code",
   "execution_count": null,
   "id": "9cb656a0-57a8-4845-b843-4a6063fb37fb",
   "metadata": {},
   "outputs": [],
   "source": []
  },
  {
   "cell_type": "code",
   "execution_count": null,
   "id": "060ec76a-3181-4a9d-b0b7-c775c329cc48",
   "metadata": {},
   "outputs": [],
   "source": [
    "server = '34.136.225.236'\n",
    "database = 'loanDW'\n",
    "username = 'SA'\n",
    "password = 'Passw0rd123456'"
   ]
  },
  {
   "cell_type": "code",
   "execution_count": null,
   "id": "3038eca1-0e0f-4c54-8c26-07e2e6fe0dad",
   "metadata": {},
   "outputs": [],
   "source": [
    "issue_d_dim.drop(columns=['index'], inplace=True)"
   ]
  },
  {
   "cell_type": "code",
   "execution_count": null,
   "id": "2a0a214e-3dc5-463e-8b14-49e54b45d735",
   "metadata": {},
   "outputs": [],
   "source": [
    "loan_status_dim.drop(columns=['index'], inplace=True)"
   ]
  },
  {
   "cell_type": "code",
   "execution_count": null,
   "id": "947e9cac-4ce8-4ac1-95e9-16173cc49aec",
   "metadata": {},
   "outputs": [],
   "source": [
    "home_ownership_dim.drop(columns=['index'], inplace=True)"
   ]
  },
  {
   "cell_type": "code",
   "execution_count": null,
   "id": "3993ef37-caac-40c1-bce1-6707b199c0de",
   "metadata": {},
   "outputs": [],
   "source": [
    "from sqlalchemy import create_engine\n",
    "import urllib\n",
    "\n",
    "# ตั้งค่าการเชื่อมต่อกับ MSSQL โดยใช้ข้อมูลที่เหมาะสมกับสภาพแวดล้อมของคุณ\n",
    "params = urllib.parse.quote_plus(\"DRIVER={ODBC Driver 17 for SQL Server};SERVER=server;DATABASE=database;UID=username;PWD=password\")\n",
    "##### engine = create_engine(f\"mssql+pyodbc:///?odbc_connect={params}\")\n",
    "# Using pymssql\n",
    "engine = create_engine(f'mssql+pymssql://{username}:{password}@{server}/{database}')\n",
    "\n",
    "\n",
    "# นำเข้าข้อมูล Dimension Tables ไปยัง MSSQL ให้ตรงกับขั้นตอนการเตรียมข้อมูลที่คุณทำไว้\n",
    "##### home_ownership_dim.to_sql('home_ownership_dim', con=engine, if_exists='replace', index=True, index_label='home_ownership_id')\n",
    "##### loan_status_dim.to_sql('loan_status_dim', con=engine, if_exists='replace', index=True, index_label='loan_status_id')\n",
    "\n",
    "home_ownership_dim.to_sql('home_ownership_dim', con=engine, if_exists='replace', index=False)\n",
    "loan_status_dim.to_sql('loan_status_dim', con=engine, if_exists='replace', index=False)\n",
    "issue_d_dim.to_sql('issue_d_dim', con=engine, if_exists='replace', index=False)\n",
    "\n",
    "\n",
    "\n",
    "# นำเข้าข้อมูล Fact Table ไปยัง MSSQL โดยใช้ข้อมูลที่เตรียมไว้\n",
    "loans_fact.to_sql('loans_fact', con=engine, if_exists='replace', index=False)\n"
   ]
  },
  {
   "cell_type": "code",
   "execution_count": null,
   "id": "9eb1e07a-4b7b-4023-8128-cc3326d05b97",
   "metadata": {},
   "outputs": [],
   "source": []
  },
  {
   "cell_type": "code",
   "execution_count": null,
   "id": "b37d80f5-7868-42e8-9b1b-34ffd2b1b3b5",
   "metadata": {},
   "outputs": [],
   "source": []
  },
  {
   "cell_type": "code",
   "execution_count": null,
   "id": "9a01cc5b-a808-4d12-9ede-4bc1f1a43f5a",
   "metadata": {},
   "outputs": [],
   "source": []
  }
 ],
 "metadata": {
  "kernelspec": {
   "display_name": "Python 3 (ipykernel)",
   "language": "python",
   "name": "python3"
  },
  "language_info": {
   "codemirror_mode": {
    "name": "ipython",
    "version": 3
   },
   "file_extension": ".py",
   "mimetype": "text/x-python",
   "name": "python",
   "nbconvert_exporter": "python",
   "pygments_lexer": "ipython3",
   "version": "3.8.18"
  }
 },
 "nbformat": 4,
 "nbformat_minor": 5
}
