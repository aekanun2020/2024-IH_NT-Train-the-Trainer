{
 "cells": [
  {
   "cell_type": "code",
   "execution_count": 1,
   "id": "9fa52606-b322-462f-ac64-7f2ba96113b8",
   "metadata": {},
   "outputs": [],
   "source": [
    "import re\n",
    "import pandas as pd"
   ]
  },
  {
   "cell_type": "code",
   "execution_count": 2,
   "id": "31aeff10-f4b6-4025-9267-e007a1367ba8",
   "metadata": {},
   "outputs": [],
   "source": [
    "def guess_column_types(file_path, delimiter=',', has_headers=True):\n",
    "    try:\n",
    "        # Read the CSV file using the specified delimiter and header settings\n",
    "        df = pd.read_csv(file_path, sep=delimiter,low_memory=False, header=0 if has_headers else None)\n",
    "\n",
    "        # Initialize a dictionary to store column data types\n",
    "        column_types = {}\n",
    "\n",
    "        # Loop through columns and infer data types\n",
    "        for column in df.columns:\n",
    "            # sample_values = df[column].dropna().sample(min(5, len(df[column])), random_state=42)\n",
    "\n",
    "            # Check for datetime format \"YYYY-MM-DD HH:MM:SS\"\n",
    "            is_datetime = all(re.match(r'\\d{4}-\\d{2}-\\d{2} \\d{2}:\\d{2}:\\d{2}', str(value)) for value in df[column])\n",
    "\n",
    "            # Check for date format \"YYYY-MM-DD\"\n",
    "            is_date = all(re.match(r'\\d{4}-\\d{2}-\\d{2}', str(value)) for value in df[column])\n",
    "\n",
    "            # Assign data type based on format detection\n",
    "            if is_datetime:\n",
    "                inferred_type = 'datetime64'\n",
    "            elif is_date:\n",
    "                inferred_type = 'date'\n",
    "            else:\n",
    "                inferred_type = pd.api.types.infer_dtype(df[column], skipna=True)\n",
    "\n",
    "            column_types[column] = inferred_type\n",
    "\n",
    "        return (True, column_types)  # Return success and column types\n",
    "    except pd.errors.ParserError:\n",
    "        return (False, str(e))  # Return error message"
   ]
  },
  {
   "cell_type": "code",
   "execution_count": 3,
   "id": "7620bebc-230f-48ba-8349-f98a595d2d73",
   "metadata": {},
   "outputs": [
    {
     "name": "stdout",
     "output_type": "stream",
     "text": [
      "Column Types: {'id': 'string', 'member_id': 'floating', 'loan_amnt': 'floating', 'funded_amnt': 'floating', 'funded_amnt_inv': 'floating', 'term': 'string', 'int_rate': 'string', 'installment': 'floating', 'grade': 'string', 'sub_grade': 'string', 'emp_title': 'string', 'emp_length': 'string', 'home_ownership': 'string', 'annual_inc': 'floating', 'verification_status': 'string', 'issue_d': 'string', 'loan_status': 'string', 'pymnt_plan': 'string', 'url': 'floating', 'desc': 'string', 'purpose': 'string', 'title': 'string', 'zip_code': 'string', 'addr_state': 'string', 'dti': 'floating', 'delinq_2yrs': 'floating', 'earliest_cr_line': 'string', 'inq_last_6mths': 'floating', 'mths_since_last_delinq': 'floating', 'mths_since_last_record': 'floating', 'open_acc': 'floating', 'pub_rec': 'floating', 'revol_bal': 'floating', 'revol_util': 'string', 'total_acc': 'floating', 'initial_list_status': 'string', 'out_prncp': 'floating', 'out_prncp_inv': 'floating', 'total_pymnt': 'floating', 'total_pymnt_inv': 'floating', 'total_rec_prncp': 'floating', 'total_rec_int': 'floating', 'total_rec_late_fee': 'floating', 'recoveries': 'floating', 'collection_recovery_fee': 'floating', 'last_pymnt_d': 'string', 'last_pymnt_amnt': 'floating', 'next_pymnt_d': 'string', 'last_credit_pull_d': 'string', 'collections_12_mths_ex_med': 'floating', 'mths_since_last_major_derog': 'floating', 'policy_code': 'floating', 'application_type': 'string', 'annual_inc_joint': 'floating', 'dti_joint': 'floating', 'verification_status_joint': 'string', 'acc_now_delinq': 'floating', 'tot_coll_amt': 'floating', 'tot_cur_bal': 'floating', 'open_acc_6m': 'floating', 'open_act_il': 'floating', 'open_il_12m': 'floating', 'open_il_24m': 'floating', 'mths_since_rcnt_il': 'floating', 'total_bal_il': 'floating', 'il_util': 'floating', 'open_rv_12m': 'floating', 'open_rv_24m': 'floating', 'max_bal_bc': 'floating', 'all_util': 'floating', 'total_rev_hi_lim': 'floating', 'inq_fi': 'floating', 'total_cu_tl': 'floating', 'inq_last_12m': 'floating', 'acc_open_past_24mths': 'floating', 'avg_cur_bal': 'floating', 'bc_open_to_buy': 'floating', 'bc_util': 'floating', 'chargeoff_within_12_mths': 'floating', 'delinq_amnt': 'floating', 'mo_sin_old_il_acct': 'floating', 'mo_sin_old_rev_tl_op': 'floating', 'mo_sin_rcnt_rev_tl_op': 'floating', 'mo_sin_rcnt_tl': 'floating', 'mort_acc': 'floating', 'mths_since_recent_bc': 'floating', 'mths_since_recent_bc_dlq': 'floating', 'mths_since_recent_inq': 'floating', 'mths_since_recent_revol_delinq': 'floating', 'num_accts_ever_120_pd': 'floating', 'num_actv_bc_tl': 'floating', 'num_actv_rev_tl': 'floating', 'num_bc_sats': 'floating', 'num_bc_tl': 'floating', 'num_il_tl': 'floating', 'num_op_rev_tl': 'floating', 'num_rev_accts': 'floating', 'num_rev_tl_bal_gt_0': 'floating', 'num_sats': 'floating', 'num_tl_120dpd_2m': 'floating', 'num_tl_30dpd': 'floating', 'num_tl_90g_dpd_24m': 'floating', 'num_tl_op_past_12m': 'floating', 'pct_tl_nvr_dlq': 'floating', 'percent_bc_gt_75': 'floating', 'pub_rec_bankruptcies': 'floating', 'tax_liens': 'floating', 'tot_hi_cred_lim': 'floating', 'total_bal_ex_mort': 'floating', 'total_bc_limit': 'floating', 'total_il_high_credit_limit': 'floating', 'revol_bal_joint': 'floating', 'sec_app_earliest_cr_line': 'string', 'sec_app_inq_last_6mths': 'floating', 'sec_app_mort_acc': 'floating', 'sec_app_open_acc': 'floating', 'sec_app_revol_util': 'floating', 'sec_app_open_act_il': 'floating', 'sec_app_num_rev_accts': 'floating', 'sec_app_chargeoff_within_12_mths': 'floating', 'sec_app_collections_12_mths_ex_med': 'floating', 'sec_app_mths_since_last_major_derog': 'floating', 'hardship_flag': 'string', 'hardship_type': 'string', 'hardship_reason': 'string', 'hardship_status': 'string', 'deferral_term': 'floating', 'hardship_amount': 'floating', 'hardship_start_date': 'string', 'hardship_end_date': 'string', 'payment_plan_start_date': 'string', 'hardship_length': 'floating', 'hardship_dpd': 'floating', 'hardship_loan_status': 'string', 'orig_projected_additional_accrued_interest': 'floating', 'hardship_payoff_balance_amount': 'floating', 'hardship_last_payment_amount': 'floating', 'debt_settlement_flag': 'string', 'debt_settlement_flag_date': 'string', 'settlement_status': 'string', 'settlement_date': 'string', 'settlement_amount': 'floating', 'settlement_percentage': 'floating', 'settlement_term': 'floating'}\n"
     ]
    }
   ],
   "source": [
    "file_path = '../data/LoanStats_web.csv'\n",
    "result, column_types_or_error = guess_column_types(file_path)\n",
    "\n",
    "if result:\n",
    "    print(\"Column Types:\", column_types_or_error)\n",
    "else:\n",
    "    print(\"Error:\", column_types_or_error)\n"
   ]
  },
  {
   "cell_type": "code",
   "execution_count": 4,
   "id": "adbf2c7d-3159-4336-bd69-c35d646fd4ef",
   "metadata": {},
   "outputs": [],
   "source": [
    "column_types_corrected = {col: ('float64' if t == 'floating' else t) for col, t in column_types_or_error.items()}\n",
    "\n",
    "# สำหรับ 'date' และ 'datetime', pandas รู้จัก 'datetime64'\n",
    "column_types_corrected = {col: ('datetime64' if t == 'date' else 'float64' if t == 'floating' else t) for col, t in column_types_corrected.items()}\n",
    "\n",
    "\n",
    "# Assuming `data.csv` is your file name\n",
    "raw_df = pd.read_csv('../data/LoanStats_web.csv', dtype=column_types_corrected)"
   ]
  },
  {
   "cell_type": "code",
   "execution_count": 5,
   "id": "d0c1a96a-4998-493a-b1fd-dbc36e7e18f0",
   "metadata": {},
   "outputs": [],
   "source": [
    "catFeature = 'purpose'\n",
    "contTarget = 'loan_amnt'"
   ]
  },
  {
   "cell_type": "code",
   "execution_count": 6,
   "id": "0b250049-12b4-470c-9c2e-ebd2ffec65da",
   "metadata": {},
   "outputs": [],
   "source": [
    "# Calculate the percentage of missing values for each column\n",
    "missing_percentage = raw_df.isnull().mean() * 100\n",
    "\n",
    "# Filter out columns where more than 30% of the data is missing\n",
    "columns_to_keep = missing_percentage[missing_percentage <= 30].index.tolist()\n",
    "filtered_df = raw_df[columns_to_keep]"
   ]
  },
  {
   "cell_type": "code",
   "execution_count": 7,
   "id": "af877ac2-8d64-4fe8-8c3b-c0fa8fd3cdb6",
   "metadata": {},
   "outputs": [],
   "source": [
    "raw_df = filtered_df"
   ]
  },
  {
   "cell_type": "code",
   "execution_count": 8,
   "id": "82f07f82-0cd4-4efa-be88-006dc75430aa",
   "metadata": {},
   "outputs": [
    {
     "name": "stdout",
     "output_type": "stream",
     "text": [
      "<class 'pandas.core.frame.DataFrame'>\n",
      "RangeIndex: 1432466 entries, 0 to 1432465\n",
      "Data columns (total 100 columns):\n",
      " #   Column                      Non-Null Count    Dtype  \n",
      "---  ------                      --------------    -----  \n",
      " 0   loan_amnt                   1432440 non-null  float64\n",
      " 1   funded_amnt                 1432440 non-null  float64\n",
      " 2   funded_amnt_inv             1432440 non-null  float64\n",
      " 3   term                        1432440 non-null  string \n",
      " 4   int_rate                    1432440 non-null  string \n",
      " 5   installment                 1432440 non-null  float64\n",
      " 6   grade                       1432440 non-null  string \n",
      " 7   sub_grade                   1432440 non-null  string \n",
      " 8   emp_title                   1302202 non-null  string \n",
      " 9   emp_length                  1323970 non-null  string \n",
      " 10  home_ownership              1432440 non-null  string \n",
      " 11  annual_inc                  1432440 non-null  float64\n",
      " 12  verification_status         1432440 non-null  string \n",
      " 13  issue_d                     1432440 non-null  string \n",
      " 14  loan_status                 1432440 non-null  string \n",
      " 15  pymnt_plan                  1432440 non-null  string \n",
      " 16  purpose                     1432440 non-null  string \n",
      " 17  title                       1409267 non-null  string \n",
      " 18  zip_code                    1432436 non-null  string \n",
      " 19  addr_state                  1432440 non-null  string \n",
      " 20  dti                         1430856 non-null  float64\n",
      " 21  delinq_2yrs                 1432440 non-null  float64\n",
      " 22  earliest_cr_line            1432440 non-null  string \n",
      " 23  inq_last_6mths              1432439 non-null  float64\n",
      " 24  open_acc                    1432440 non-null  float64\n",
      " 25  pub_rec                     1432440 non-null  float64\n",
      " 26  revol_bal                   1432440 non-null  float64\n",
      " 27  revol_util                  1431251 non-null  string \n",
      " 28  total_acc                   1432440 non-null  float64\n",
      " 29  initial_list_status         1432440 non-null  string \n",
      " 30  out_prncp                   1432440 non-null  float64\n",
      " 31  out_prncp_inv               1432440 non-null  float64\n",
      " 32  total_pymnt                 1432440 non-null  float64\n",
      " 33  total_pymnt_inv             1432440 non-null  float64\n",
      " 34  total_rec_prncp             1432440 non-null  float64\n",
      " 35  total_rec_int               1432440 non-null  float64\n",
      " 36  total_rec_late_fee          1432440 non-null  float64\n",
      " 37  recoveries                  1432440 non-null  float64\n",
      " 38  collection_recovery_fee     1432440 non-null  float64\n",
      " 39  last_pymnt_d                1430623 non-null  string \n",
      " 40  last_pymnt_amnt             1432440 non-null  float64\n",
      " 41  last_credit_pull_d          1432416 non-null  string \n",
      " 42  collections_12_mths_ex_med  1432440 non-null  float64\n",
      " 43  policy_code                 1432440 non-null  float64\n",
      " 44  application_type            1432440 non-null  string \n",
      " 45  acc_now_delinq              1432440 non-null  float64\n",
      " 46  tot_coll_amt                1432440 non-null  float64\n",
      " 47  tot_cur_bal                 1432440 non-null  float64\n",
      " 48  open_acc_6m                 1432378 non-null  float64\n",
      " 49  open_act_il                 1432379 non-null  float64\n",
      " 50  open_il_12m                 1432379 non-null  float64\n",
      " 51  open_il_24m                 1432379 non-null  float64\n",
      " 52  mths_since_rcnt_il          1388371 non-null  float64\n",
      " 53  total_bal_il                1432379 non-null  float64\n",
      " 54  il_util                     1224896 non-null  float64\n",
      " 55  open_rv_12m                 1432379 non-null  float64\n",
      " 56  open_rv_24m                 1432379 non-null  float64\n",
      " 57  max_bal_bc                  1432379 non-null  float64\n",
      " 58  all_util                    1432191 non-null  float64\n",
      " 59  total_rev_hi_lim            1432440 non-null  float64\n",
      " 60  inq_fi                      1432379 non-null  float64\n",
      " 61  total_cu_tl                 1432378 non-null  float64\n",
      " 62  inq_last_12m                1432378 non-null  float64\n",
      " 63  acc_open_past_24mths        1432440 non-null  float64\n",
      " 64  avg_cur_bal                 1432393 non-null  float64\n",
      " 65  bc_open_to_buy              1415954 non-null  float64\n",
      " 66  bc_util                     1415312 non-null  float64\n",
      " 67  chargeoff_within_12_mths    1432440 non-null  float64\n",
      " 68  delinq_amnt                 1432440 non-null  float64\n",
      " 69  mo_sin_old_il_acct          1388426 non-null  float64\n",
      " 70  mo_sin_old_rev_tl_op        1432440 non-null  float64\n",
      " 71  mo_sin_rcnt_rev_tl_op       1432440 non-null  float64\n",
      " 72  mo_sin_rcnt_tl              1432440 non-null  float64\n",
      " 73  mort_acc                    1432440 non-null  float64\n",
      " 74  mths_since_recent_bc        1416830 non-null  float64\n",
      " 75  mths_since_recent_inq       1266039 non-null  float64\n",
      " 76  num_accts_ever_120_pd       1432440 non-null  float64\n",
      " 77  num_actv_bc_tl              1432440 non-null  float64\n",
      " 78  num_actv_rev_tl             1432440 non-null  float64\n",
      " 79  num_bc_sats                 1432440 non-null  float64\n",
      " 80  num_bc_tl                   1432440 non-null  float64\n",
      " 81  num_il_tl                   1432440 non-null  float64\n",
      " 82  num_op_rev_tl               1432440 non-null  float64\n",
      " 83  num_rev_accts               1432440 non-null  float64\n",
      " 84  num_rev_tl_bal_gt_0         1432440 non-null  float64\n",
      " 85  num_sats                    1432440 non-null  float64\n",
      " 86  num_tl_120dpd_2m            1376689 non-null  float64\n",
      " 87  num_tl_30dpd                1432440 non-null  float64\n",
      " 88  num_tl_90g_dpd_24m          1432440 non-null  float64\n",
      " 89  num_tl_op_past_12m          1432440 non-null  float64\n",
      " 90  pct_tl_nvr_dlq              1432438 non-null  float64\n",
      " 91  percent_bc_gt_75            1415902 non-null  float64\n",
      " 92  pub_rec_bankruptcies        1432440 non-null  float64\n",
      " 93  tax_liens                   1432440 non-null  float64\n",
      " 94  tot_hi_cred_lim             1432440 non-null  float64\n",
      " 95  total_bal_ex_mort           1432440 non-null  float64\n",
      " 96  total_bc_limit              1432440 non-null  float64\n",
      " 97  total_il_high_credit_limit  1432440 non-null  float64\n",
      " 98  hardship_flag               1432440 non-null  string \n",
      " 99  debt_settlement_flag        1432440 non-null  string \n",
      "dtypes: float64(77), string(23)\n",
      "memory usage: 1.1 GB\n"
     ]
    }
   ],
   "source": [
    "raw_df.info()"
   ]
  },
  {
   "cell_type": "markdown",
   "id": "e2fa4c6a-6c11-4def-af9b-2c14b2b82c07",
   "metadata": {},
   "source": [
    "### จัดเตรียมข้อมูลแบบ Series เพื่อการทดสอบความสัมพันธ์"
   ]
  },
  {
   "cell_type": "code",
   "execution_count": 9,
   "id": "64a7ddad-007f-4ccb-9228-5a42361a0a75",
   "metadata": {},
   "outputs": [
    {
     "name": "stderr",
     "output_type": "stream",
     "text": [
      "/opt/homebrew/Caskroom/miniforge/base/envs/python3.8/lib/python3.8/site-packages/scipy/__init__.py:146: UserWarning: A NumPy version >=1.16.5 and <1.23.0 is required for this version of SciPy (detected version 1.24.4\n",
      "  warnings.warn(f\"A NumPy version >={np_minversion} and <{np_maxversion}\"\n"
     ]
    }
   ],
   "source": [
    "import pandas as pd\n",
    "import numpy as np\n",
    "from scipy.stats import kruskal\n",
    "from scikit_posthocs import posthoc_dunn\n",
    "\n",
    "# สมมติว่า df_clean เป็น DataFrame ที่คุณมีอยู่และ 'catFeature' เป็นคอลัมน์ที่มีค่า categorical หลาย ค่า\n",
    "# สร้างสำเนาเพื่อหลีกเลี่ยง SettingWithCopyWarning\n",
    "df_clean = raw_df.copy()\n",
    "\n",
    "# แปลงข้อมูลใน contTarget ให้เป็นตัวเลข\n",
    "## df_clean[contTarget] = pd.to_numeric(df_clean[contTarget], errors='coerce')\n",
    "\n",
    "# ตรวจสอบและลบค่า NaN หลังจากการแปลง\n",
    "df_clean = df_clean.dropna(subset=[contTarget])\n",
    "\n",
    "# หลังจากแปลงข้อมูลแล้ว สร้าง groups ซึ่งประกอบด้วย series ของ loan_amnt หลายๆ ชุด ที่ถูกสร้างขึ้นจาก value แต่ละแบบของ catFeature\n",
    "groups = [df_clean[df_clean[catFeature] == value][contTarget] for value in df_clean[catFeature].unique()]\n",
    "\n",
    "# ลบ Series ที่ว่างเปล่า (ถ้ามี)\n",
    "groups = [group for group in groups if not group.empty]"
   ]
  },
  {
   "cell_type": "markdown",
   "id": "9d873e60-b620-4084-83cc-8f589077efc5",
   "metadata": {},
   "source": [
    "### Kolmogorov-Smirnov Test และ Anderson-Darling Test เพื่อดูว่ามีการแจกแจงแบบปกติ หรือไม่"
   ]
  },
  {
   "cell_type": "markdown",
   "id": "f159cf61-abef-46f2-aeba-8b5f2b358501",
   "metadata": {},
   "source": [
    "### Mann-Whitney U test หรือ Kruskal-Wallis H-test กรณีตั้งแต่ 3 กลุ่ม"
   ]
  },
  {
   "cell_type": "code",
   "execution_count": 10,
   "id": "ba387a62-2bb8-4748-a084-283e074f9517",
   "metadata": {},
   "outputs": [
    {
     "name": "stdout",
     "output_type": "stream",
     "text": [
      "Kruskal-Wallis H-test stat=80061.420, p=0.000e+00\n",
      "มีความแตกต่างที่มีนัยสำคัญทางสถิติระหว่างกลุ่ม (reject H0)\n"
     ]
    }
   ],
   "source": [
    "# ทำ Kruskal-Wallis H-test\n",
    "stat, p = kruskal(*groups)\n",
    "print(f'Kruskal-Wallis H-test stat={stat:.3f}, p={p:.3e}')\n",
    "\n",
    "# อ่านค่าและการแปรผล\n",
    "alpha = 0.05  # ระดับนัยสำคัญ\n",
    "if p < alpha:\n",
    "    print(\"มีความแตกต่างที่มีนัยสำคัญทางสถิติระหว่างกลุ่ม (reject H0)\")\n",
    "else:\n",
    "    print(\"ไม่มีความแตกต่างที่มีนัยสำคัญทางสถิติระหว่างกลุ่ม (fail to reject H0)\")"
   ]
  },
  {
   "cell_type": "raw",
   "id": "be57d077-7a82-4638-8f77-0595a5610f4c",
   "metadata": {},
   "source": [
    "from autoviz.AutoViz_Class import AutoViz_Class\n"
   ]
  },
  {
   "cell_type": "raw",
   "id": "85fd2307-5dc7-4f9d-94ce-c3ebafb33b4c",
   "metadata": {},
   "source": [
    "av = AutoViz_Class()\n"
   ]
  },
  {
   "cell_type": "raw",
   "id": "7019b008-3c0a-482c-a2f7-adedbb0af398",
   "metadata": {},
   "source": [
    "### import autoviz as av\n",
    "### import pandas as pd\n",
    "\n",
    "# Load your data into a Pandas DataFrame\n",
    "### df = pd.read_csv(\"your_data.csv\")\n",
    "\n",
    "# Automatically generate visualizations for the data\n",
    "viz = av.AutoViz('../data/LoanStats_web.csv')\n",
    "\n",
    "# Show the visualizations\n",
    "viz.show()"
   ]
  },
  {
   "cell_type": "code",
   "execution_count": 23,
   "id": "2f541504-fb7f-47aa-8a70-2e7a21de66a3",
   "metadata": {},
   "outputs": [],
   "source": [
    "total_records = len(raw_df)"
   ]
  },
  {
   "cell_type": "code",
   "execution_count": 24,
   "id": "8002a824-cf4f-41ad-9fe2-45b319d40ae5",
   "metadata": {},
   "outputs": [
    {
     "data": {
      "text/plain": [
       "1432466"
      ]
     },
     "execution_count": 24,
     "metadata": {},
     "output_type": "execute_result"
    }
   ],
   "source": [
    "total_records"
   ]
  },
  {
   "cell_type": "code",
   "execution_count": 22,
   "id": "8812365b-d7c7-4a97-9f16-d2a09b928ce5",
   "metadata": {},
   "outputs": [
    {
     "name": "stdout",
     "output_type": "stream",
     "text": [
      "ไม่มีคอลัมน์ใดที่มีข้อมูลครบถ้วน\n"
     ]
    }
   ],
   "source": [
    "# ตรวจสอบจำนวนเรกคอร์ดทั้งหมดใน DataFrame\n",
    "total_records = len(raw_df)\n",
    "\n",
    "# สร้างรายการของคอลัมน์ที่มีข้อมูลครบถ้วน (ไม่มีค่า null)\n",
    "complete_columns = [column for column in raw_df.columns if raw_df[column].isnull().sum() == 0]\n",
    "\n",
    "# ตรวจสอบว่ามีคอลัมน์ใดบ้างที่มีข้อมูลครบถ้วน\n",
    "if not complete_columns:\n",
    "    print(\"ไม่มีคอลัมน์ใดที่มีข้อมูลครบถ้วน\")\n",
    "else:\n",
    "    # เลือกเฉพาะคอลัมน์ที่มีข้อมูลครบถ้วนจาก raw_df\n",
    "    df_complete = raw_df[complete_columns]\n",
    "\n",
    "    # แสดงผลลัพธ์\n",
    "    print(\"คอลัมน์ที่มีข้อมูลครบถ้วน:\", complete_columns)\n",
    "    df_complete.info()\n"
   ]
  },
  {
   "cell_type": "code",
   "execution_count": 27,
   "id": "cf66f2cc-2c37-42d2-a9cd-162e6ac6ebd9",
   "metadata": {},
   "outputs": [
    {
     "name": "stdout",
     "output_type": "stream",
     "text": [
      "Selected columns: ['loan_amnt', 'funded_amnt', 'funded_amnt_inv', 'term', 'int_rate', 'installment', 'grade', 'sub_grade', 'home_ownership', 'annual_inc', 'verification_status', 'issue_d', 'loan_status', 'pymnt_plan', 'purpose', 'addr_state', 'delinq_2yrs', 'earliest_cr_line', 'open_acc', 'pub_rec', 'revol_bal', 'total_acc', 'initial_list_status', 'out_prncp', 'out_prncp_inv', 'total_pymnt', 'total_pymnt_inv', 'total_rec_prncp', 'total_rec_int', 'total_rec_late_fee', 'recoveries', 'collection_recovery_fee', 'last_pymnt_amnt', 'collections_12_mths_ex_med', 'policy_code', 'application_type', 'acc_now_delinq', 'tot_coll_amt', 'tot_cur_bal', 'total_rev_hi_lim', 'acc_open_past_24mths', 'chargeoff_within_12_mths', 'delinq_amnt', 'mo_sin_old_rev_tl_op', 'mo_sin_rcnt_rev_tl_op', 'mo_sin_rcnt_tl', 'mort_acc', 'num_accts_ever_120_pd', 'num_actv_bc_tl', 'num_actv_rev_tl', 'num_bc_sats', 'num_bc_tl', 'num_il_tl', 'num_op_rev_tl', 'num_rev_accts', 'num_rev_tl_bal_gt_0', 'num_sats', 'num_tl_30dpd', 'num_tl_90g_dpd_24m', 'num_tl_op_past_12m', 'pub_rec_bankruptcies', 'tax_liens', 'tot_hi_cred_lim', 'total_bal_ex_mort', 'total_bc_limit', 'total_il_high_credit_limit', 'hardship_flag', 'debt_settlement_flag']\n",
      "<class 'pandas.core.frame.DataFrame'>\n",
      "Index: 1432440 entries, 0 to 1432463\n",
      "Data columns (total 68 columns):\n",
      " #   Column                      Non-Null Count    Dtype  \n",
      "---  ------                      --------------    -----  \n",
      " 0   loan_amnt                   1432440 non-null  float64\n",
      " 1   funded_amnt                 1432440 non-null  float64\n",
      " 2   funded_amnt_inv             1432440 non-null  float64\n",
      " 3   term                        1432440 non-null  string \n",
      " 4   int_rate                    1432440 non-null  string \n",
      " 5   installment                 1432440 non-null  float64\n",
      " 6   grade                       1432440 non-null  string \n",
      " 7   sub_grade                   1432440 non-null  string \n",
      " 8   home_ownership              1432440 non-null  string \n",
      " 9   annual_inc                  1432440 non-null  float64\n",
      " 10  verification_status         1432440 non-null  string \n",
      " 11  issue_d                     1432440 non-null  string \n",
      " 12  loan_status                 1432440 non-null  string \n",
      " 13  pymnt_plan                  1432440 non-null  string \n",
      " 14  purpose                     1432440 non-null  string \n",
      " 15  addr_state                  1432440 non-null  string \n",
      " 16  delinq_2yrs                 1432440 non-null  float64\n",
      " 17  earliest_cr_line            1432440 non-null  string \n",
      " 18  open_acc                    1432440 non-null  float64\n",
      " 19  pub_rec                     1432440 non-null  float64\n",
      " 20  revol_bal                   1432440 non-null  float64\n",
      " 21  total_acc                   1432440 non-null  float64\n",
      " 22  initial_list_status         1432440 non-null  string \n",
      " 23  out_prncp                   1432440 non-null  float64\n",
      " 24  out_prncp_inv               1432440 non-null  float64\n",
      " 25  total_pymnt                 1432440 non-null  float64\n",
      " 26  total_pymnt_inv             1432440 non-null  float64\n",
      " 27  total_rec_prncp             1432440 non-null  float64\n",
      " 28  total_rec_int               1432440 non-null  float64\n",
      " 29  total_rec_late_fee          1432440 non-null  float64\n",
      " 30  recoveries                  1432440 non-null  float64\n",
      " 31  collection_recovery_fee     1432440 non-null  float64\n",
      " 32  last_pymnt_amnt             1432440 non-null  float64\n",
      " 33  collections_12_mths_ex_med  1432440 non-null  float64\n",
      " 34  policy_code                 1432440 non-null  float64\n",
      " 35  application_type            1432440 non-null  string \n",
      " 36  acc_now_delinq              1432440 non-null  float64\n",
      " 37  tot_coll_amt                1432440 non-null  float64\n",
      " 38  tot_cur_bal                 1432440 non-null  float64\n",
      " 39  total_rev_hi_lim            1432440 non-null  float64\n",
      " 40  acc_open_past_24mths        1432440 non-null  float64\n",
      " 41  chargeoff_within_12_mths    1432440 non-null  float64\n",
      " 42  delinq_amnt                 1432440 non-null  float64\n",
      " 43  mo_sin_old_rev_tl_op        1432440 non-null  float64\n",
      " 44  mo_sin_rcnt_rev_tl_op       1432440 non-null  float64\n",
      " 45  mo_sin_rcnt_tl              1432440 non-null  float64\n",
      " 46  mort_acc                    1432440 non-null  float64\n",
      " 47  num_accts_ever_120_pd       1432440 non-null  float64\n",
      " 48  num_actv_bc_tl              1432440 non-null  float64\n",
      " 49  num_actv_rev_tl             1432440 non-null  float64\n",
      " 50  num_bc_sats                 1432440 non-null  float64\n",
      " 51  num_bc_tl                   1432440 non-null  float64\n",
      " 52  num_il_tl                   1432440 non-null  float64\n",
      " 53  num_op_rev_tl               1432440 non-null  float64\n",
      " 54  num_rev_accts               1432440 non-null  float64\n",
      " 55  num_rev_tl_bal_gt_0         1432440 non-null  float64\n",
      " 56  num_sats                    1432440 non-null  float64\n",
      " 57  num_tl_30dpd                1432440 non-null  float64\n",
      " 58  num_tl_90g_dpd_24m          1432440 non-null  float64\n",
      " 59  num_tl_op_past_12m          1432440 non-null  float64\n",
      " 60  pub_rec_bankruptcies        1432440 non-null  float64\n",
      " 61  tax_liens                   1432440 non-null  float64\n",
      " 62  tot_hi_cred_lim             1432440 non-null  float64\n",
      " 63  total_bal_ex_mort           1432440 non-null  float64\n",
      " 64  total_bc_limit              1432440 non-null  float64\n",
      " 65  total_il_high_credit_limit  1432440 non-null  float64\n",
      " 66  hardship_flag               1432440 non-null  string \n",
      " 67  debt_settlement_flag        1432440 non-null  string \n",
      "dtypes: float64(52), string(16)\n",
      "memory usage: 754.1 MB\n"
     ]
    }
   ],
   "source": [
    "# สร้างรายการของคอลัมน์ที่มี Non-Null จำนวน 1,432,440\n",
    "selected_columns = [col for col in raw_df.columns if raw_df[col].notnull().sum() == 1432440]\n",
    "\n",
    "# แสดงคอลัมน์ที่เลือก\n",
    "print(\"Selected columns:\", selected_columns)\n",
    "\n",
    "# สร้าง DataFrame ใหม่จากคอลัมน์ที่เลือก\n",
    "df_selected = raw_df[selected_columns]\n",
    "\n",
    "\n",
    "# ลบแถวที่มีค่า null ในคอลัมน์เหล่านั้น\n",
    "df_cleaned = df_selected.dropna()\n",
    "\n",
    "# แสดงข้อมูลทั่วไปของ DataFrame หลังจากลบ null\n",
    "df_cleaned.info()"
   ]
  },
  {
   "cell_type": "code",
   "execution_count": 28,
   "id": "630fcd63-217e-4bf9-9fcb-4a8797bca502",
   "metadata": {},
   "outputs": [
    {
     "data": {
      "application/vnd.jupyter.widget-view+json": {
       "model_id": "fd890a2f5a7f49d28cb46d4f75c21d22",
       "version_major": 2,
       "version_minor": 0
      },
      "text/plain": [
       "                                             |          | [  0%]   00:00 -> (? left)"
      ]
     },
     "metadata": {},
     "output_type": "display_data"
    },
    {
     "name": "stdout",
     "output_type": "stream",
     "text": [
      "Report SWEETVIZ_REPORT.html was generated! NOTEBOOK/COLAB USERS: the web browser MAY not pop up, regardless, the report IS saved in your notebook/colab files.\n"
     ]
    }
   ],
   "source": [
    "import sweetviz as sv\n",
    "import pandas as pd\n",
    "\n",
    "# Load your data into a Pandas DataFrame\n",
    "### df = pd.read_csv(\"your_data.csv\")\n",
    "\n",
    "# Create an analysis report for your data\n",
    "report = sv.analyze(df_cleaned)\n",
    "\n",
    "# Display the report\n",
    "report.show_html()"
   ]
  },
  {
   "cell_type": "code",
   "execution_count": null,
   "id": "6c7dd470-d342-489a-9d40-d3b3d7d9ef30",
   "metadata": {},
   "outputs": [],
   "source": []
  }
 ],
 "metadata": {
  "kernelspec": {
   "display_name": "Python 3 (ipykernel)",
   "language": "python",
   "name": "python3"
  },
  "language_info": {
   "codemirror_mode": {
    "name": "ipython",
    "version": 3
   },
   "file_extension": ".py",
   "mimetype": "text/x-python",
   "name": "python",
   "nbconvert_exporter": "python",
   "pygments_lexer": "ipython3",
   "version": "3.8.18"
  }
 },
 "nbformat": 4,
 "nbformat_minor": 5
}
